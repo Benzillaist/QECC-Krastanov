{
 "cells": [
  {
   "cell_type": "code",
   "execution_count": 1,
   "metadata": {},
   "outputs": [],
   "source": [
    "include(\"util/CSS_builder.jl\")\n",
    "using Main.CSS_Builder"
   ]
  },
  {
   "cell_type": "code",
   "execution_count": 3,
   "metadata": {},
   "outputs": [
    {
     "ename": "MethodError",
     "evalue": "MethodError: no method matching Bicycle_Code(::Vector{Int64})\n\nClosest candidates are:\n  Bicycle_Code(::Any, !Matched::Any, !Matched::Any, !Matched::Any, !Matched::Any)\n   @ Main.CSS_Builder c:\\Users\\benku\\Desktop\\College documents\\Krastanov Independent Study\\util\\CSS_builder.jl:10\n  Bicycle_Code(!Matched::Array{Array{Bool}}, !Matched::Array{Array{Bool}}, !Matched::Array{Array{Bool}}, !Matched::Array{Bool}, !Matched::Array{Bool})\n   @ Main.CSS_Builder c:\\Users\\benku\\Desktop\\College documents\\Krastanov Independent Study\\util\\CSS_builder.jl:10\n",
     "output_type": "error",
     "traceback": [
      "MethodError: no method matching Bicycle_Code(::Vector{Int64})\n",
      "\n",
      "Closest candidates are:\n",
      "  Bicycle_Code(::Any, !Matched::Any, !Matched::Any, !Matched::Any, !Matched::Any)\n",
      "   @ Main.CSS_Builder c:\\Users\\benku\\Desktop\\College documents\\Krastanov Independent Study\\util\\CSS_builder.jl:10\n",
      "  Bicycle_Code(!Matched::Array{Array{Bool}}, !Matched::Array{Array{Bool}}, !Matched::Array{Array{Bool}}, !Matched::Array{Bool}, !Matched::Array{Bool})\n",
      "   @ Main.CSS_Builder c:\\Users\\benku\\Desktop\\College documents\\Krastanov Independent Study\\util\\CSS_builder.jl:10\n",
      "\n",
      "\n",
      "Stacktrace:\n",
      " [1] top-level scope\n",
      "   @ c:\\Users\\benku\\Desktop\\College documents\\Krastanov Independent Study\\ecc_playground_jl.ipynb:1"
     ]
    }
   ],
   "source": [
    "b = Bicycle_Code([1, 0, 1])\n",
    "print(b)"
   ]
  },
  {
   "cell_type": "code",
   "execution_count": 60,
   "metadata": {},
   "outputs": [
    {
     "data": {
      "text/plain": [
       "3-element Vector{Int64}:\n",
       " 1\n",
       " 2\n",
       " 3"
      ]
     },
     "metadata": {},
     "output_type": "display_data"
    }
   ],
   "source": [
    "a = [1, 2, 3]"
   ]
  },
  {
   "cell_type": "code",
   "execution_count": 61,
   "metadata": {},
   "outputs": [
    {
     "data": {
      "text/plain": [
       "3-element Vector{Vector{Int64}}:\n",
       " [1, 2, 3]\n",
       " [4, 5, 6]\n",
       " [7, 8, 9]"
      ]
     },
     "metadata": {},
     "output_type": "display_data"
    }
   ],
   "source": [
    "a = [[1, 2, 3], [4, 5, 6], [7, 8, 9]]"
   ]
  },
  {
   "cell_type": "code",
   "execution_count": 62,
   "metadata": {},
   "outputs": [
    {
     "ename": "ErrorException",
     "evalue": "invalid redefinition of constant CSS_Code",
     "output_type": "error",
     "traceback": [
      "invalid redefinition of constant CSS_Code\n",
      "\n",
      "Stacktrace:\n",
      " [1] top-level scope\n",
      "   @ c:\\Users\\benku\\Desktop\\College documents\\Krastanov Independent Study\\ecc_playground_jl.ipynb:4"
     ]
    }
   ],
   "source": [
    "abstract type ECC end\n",
    "    \n",
    "\n",
    "struct CSS_Code <: ECC\n",
    "    type::String\n",
    "    data::Array{Array{Bool}}\n",
    "end\n",
    "\n",
    " struct Bicycle_Code <: CSS_Code\n",
    "    circ_indices::Array{Bool}\n",
    "    circ_arr::Array{Bool}\n",
    " end\n"
   ]
  },
  {
   "cell_type": "code",
   "execution_count": 63,
   "metadata": {},
   "outputs": [
    {
     "name": "stdout",
     "output_type": "stream",
     "text": [
      "Array{Bool}[[1, 0, 1], [0, 1, 0]]\n",
      "Array{Bool}[[1, 0, 1], [0, 1, 0]]\n"
     ]
    }
   ],
   "source": [
    "bicycle_test = CSS_Code(\"Bicycle\", [[true, false, true],[false, true, false]])\n",
    "println(bicycle_test.data)\n",
    "println(bicycle_test.data)"
   ]
  },
  {
   "cell_type": "code",
   "execution_count": 247,
   "metadata": {},
   "outputs": [
    {
     "data": {
      "text/plain": [
       "Circ2H (generic function with 1 method)"
      ]
     },
     "metadata": {},
     "output_type": "display_data"
    }
   ],
   "source": [
    "function Circ2BicycleH(circ_indices::Array{Int}, n::Int)\n",
    "    circ_arr = fill(false, n)\n",
    "    circ_matrix = Matrix{Bool}(undef, n, n)\n",
    "    comp_matrix = Matrix{Bool}(undef, n, 2*n)\n",
    "    for i = 1:n\n",
    "        if i in circ_indices\n",
    "            circ_arr[i] = true\n",
    "        else\n",
    "            circ_arr[i] = false\n",
    "        end\n",
    "    end\n",
    "    for i = 1:n\n",
    "        circ_matrix[i,1:n] = circ_arr\n",
    "        li = circ_arr[end]\n",
    "        circ_arr[2:end] = circ_arr[1:end-1]\n",
    "        circ_arr[1] = li\n",
    "    end\n",
    "    comp_matrix[1:n,1:n] = circ_matrix\n",
    "    comp_matrix[1:n,n+1:2*n] = transpose(circ_matrix)\n",
    "    return comp_matrix\n",
    "end"
   ]
  },
  {
   "cell_type": "code",
   "execution_count": 274,
   "metadata": {},
   "outputs": [
    {
     "data": {
      "text/plain": [
       "Circ2UnicycleH (generic function with 1 method)"
      ]
     },
     "metadata": {},
     "output_type": "display_data"
    }
   ],
   "source": [
    "function Circ2UnicycleH(circ_indices::Array{Int}, n::Int)\n",
    "    circ_arr = fill(false, n)\n",
    "    one_col = transpose(fill(true, n))\n",
    "    circ_matrix = Matrix{Bool}(undef, n, n)\n",
    "    comp_matrix = Matrix{Bool}(undef, n, n+1)\n",
    "    for i = 1:n\n",
    "        if i in circ_indices\n",
    "            circ_arr[i] = true\n",
    "        else\n",
    "            circ_arr[i] = false\n",
    "        end\n",
    "    end\n",
    "    for i = 1:n\n",
    "        circ_matrix[i,1:n] = circ_arr\n",
    "        li = circ_arr[end]\n",
    "        circ_arr[2:end] = circ_arr[1:end-1]\n",
    "        circ_arr[1] = li\n",
    "    end\n",
    "    comp_matrix[1:n,1:n] = circ_matrix\n",
    "    comp_matrix[1:n,n+1] = one_col\n",
    "    return comp_matrix\n",
    "end"
   ]
  },
  {
   "cell_type": "code",
   "execution_count": 444,
   "metadata": {},
   "outputs": [
    {
     "data": {
      "text/plain": [
       "BicycleSetGen (generic function with 2 methods)"
      ]
     },
     "metadata": {},
     "output_type": "display_data"
    }
   ],
   "source": [
    "function BicycleSetGen(N::Int)\n",
    "    circ_arr::Array{Int} = [0]\n",
    "    diff_arr::Array{Int} = []\n",
    "    circ_arr[1] = 0\n",
    "    # test new elements\n",
    "    for add_i = (circ_arr[end] + 1):N - 1\n",
    "        valid = true\n",
    "        temp_circ_arr = copy(circ_arr)\n",
    "        temp_diff_arr::Array{Int} = []\n",
    "        push!(temp_circ_arr, add_i)\n",
    "        for j = 1:size(temp_circ_arr)[1]\n",
    "            temp_arr = copy(temp_circ_arr)\n",
    "            # add lesser elements + N to temp_arr\n",
    "            for k = 1:size(temp_circ_arr)[1]\n",
    "                if k < j\n",
    "                    push!(temp_arr, temp_circ_arr[k] + N)\n",
    "                else\n",
    "                    break\n",
    "                end\n",
    "            end\n",
    "            # test if new index is valid\n",
    "            for k = 1:(size(temp_circ_arr)[1] - 2)\n",
    "                t_diff = (temp_arr[j + k] - temp_arr[j]) % N\n",
    "                if ((t_diff) in temp_diff_arr)\n",
    "                    valid = false\n",
    "                    break\n",
    "                else\n",
    "                    push!(temp_diff_arr, t_diff)\n",
    "                end\n",
    "            end\n",
    "            if !valid\n",
    "                break\n",
    "            end\n",
    "        end\n",
    "        if valid\n",
    "            circ_arr = copy(temp_circ_arr)\n",
    "            diff_arr = copy(temp_diff_arr)\n",
    "        end\n",
    "    end\n",
    "    return circ_arr\n",
    " end"
   ]
  },
  {
   "cell_type": "code",
   "execution_count": 576,
   "metadata": {},
   "outputs": [
    {
     "data": {
      "text/plain": [
       "BicycleSetGenRand (generic function with 1 method)"
      ]
     },
     "metadata": {},
     "output_type": "display_data"
    }
   ],
   "source": [
    "function BicycleSetGenRand(N::Int, d::Int)\n",
    "    circ_arr::Array{Int} = [0]\n",
    "    diff_arr::Array{Int} = []\n",
    "    atmp_add::Array{Int} = [0]\n",
    "    circ_arr[1] = 0\n",
    "    # test new elements\n",
    "    for i = (circ_arr[end] + 1):(N^2)\n",
    "        valid = true\n",
    "        temp_circ_arr = copy(circ_arr)\n",
    "        temp_diff_arr::Array{Int} = []\n",
    "        add_i = rand(1: N-1)\n",
    "        atmp_add = push!(atmp_add, add_i)\n",
    "        if add_i in circ_arr\n",
    "            continue\n",
    "        end\n",
    "        push!(temp_circ_arr, add_i)\n",
    "        for j = 1:size(temp_circ_arr)[1]\n",
    "            temp_arr = copy(temp_circ_arr)\n",
    "            # add lesser elements + N to temp_arr\n",
    "            for k = 1:size(temp_circ_arr)[1]\n",
    "                if k < j\n",
    "                    push!(temp_arr, temp_circ_arr[k] + N)\n",
    "                else\n",
    "                    break\n",
    "                end\n",
    "            end\n",
    "            # test if new index is valid\n",
    "            for k = 1:(size(temp_circ_arr)[1] - 2)\n",
    "                t_diff = (temp_arr[j + k] - temp_arr[j]) % N\n",
    "                if ((t_diff) in temp_diff_arr)\n",
    "                    valid = false\n",
    "                    break\n",
    "                else\n",
    "                    push!(temp_diff_arr, t_diff)\n",
    "                end\n",
    "            end\n",
    "            if !valid\n",
    "                break\n",
    "            end\n",
    "        end\n",
    "        if valid\n",
    "            circ_arr = copy(temp_circ_arr)\n",
    "            diff_arr = copy(temp_diff_arr)\n",
    "            if (size(atmp_add)[1] == N) || (size(circ_arr)[1] == d)\n",
    "                println(\"Exiting\")\n",
    "                break\n",
    "            end\n",
    "        end\n",
    "    end\n",
    "    return circ_arr\n",
    " end"
   ]
  },
  {
   "cell_type": "code",
   "execution_count": 707,
   "metadata": {},
   "outputs": [
    {
     "name": "stdout",
     "output_type": "stream",
     "text": [
      "[0, 866, 715, 770, 205, 391, 589, 756, 595, 118, 84, 1020, 103, 128, 812, 606, 1008, 36, 45, 23, 373]\n",
      "21\n"
     ]
    }
   ],
   "source": [
    "BicycleSetRand = BicycleSetGenRand(1024, 22)\n",
    "println(BicycleSetRand)\n",
    "println(size(BicycleSetRand)[1])"
   ]
  },
  {
   "cell_type": "code",
   "execution_count": 708,
   "metadata": {},
   "outputs": [
    {
     "name": "stdout",
     "output_type": "stream",
     "text": [
      "[0, 1, 3, 7, 12, 20, 30, 44, 65, 80, 96, 122, 147, 181, 203, 251, 289, 360, 400, 474, 564, 662]\n",
      "22\n"
     ]
    }
   ],
   "source": [
    "BicycleSet = BicycleSetGen(1000)\n",
    "println(BicycleSet)\n",
    "println(size(BicycleSet)[1])"
   ]
  },
  {
   "cell_type": "code",
   "execution_count": 275,
   "metadata": {},
   "outputs": [
    {
     "name": "stdout",
     "output_type": "stream",
     "text": [
      "Bool[1 1 0 0 1 0 1 0 0 0 0 0 0 1; 0 1 1 0 0 1 0 1 0 0 0 0 0 1; 0 0 1 1 0 0 1 0 1 0 0 0 0 1; 0 0 0 1 1 0 0 1 0 1 0 0 0 1; 0 0 0 0 1 1 0 0 1 0 1 0 0 1; 0 0 0 0 0 1 1 0 0 1 0 1 0 1; 0 0 0 0 0 0 1 1 0 0 1 0 1 1; 1 0 0 0 0 0 0 1 1 0 0 1 0 1; 0 1 0 0 0 0 0 0 1 1 0 0 1 1; 1 0 1 0 0 0 0 0 0 1 1 0 0 1; 0 1 0 1 0 0 0 0 0 0 1 1 0 1; 0 0 1 0 1 0 0 0 0 0 0 1 1 1; 1 0 0 1 0 1 0 0 0 0 0 0 1 1]"
     ]
    }
   ],
   "source": [
    "print(Circ2UnicycleH([1, 2, 5, 7], 13))"
   ]
  },
  {
   "cell_type": "code",
   "execution_count": 2,
   "metadata": {},
   "outputs": [
    {
     "data": {
      "text/plain": [
       "GetCodeTableau (generic function with 1 method)"
      ]
     },
     "metadata": {},
     "output_type": "display_data"
    }
   ],
   "source": [
    "function GetCodeTableau(ecc::Matrix{Bool})\n",
    "    println(size(ecc))\n",
    "    eccx = size(ecc)[2]\n",
    "    eccy = size(ecc)[1]\n",
    "    ps::String = \"\"\n",
    "    for i = 1:size(ecc)[1]\n",
    "        for j = 1:(Int(size(ecc)[2]/2))\n",
    "            if (ecc[i, j] == 0) && (ecc[i, j + Int(eccx / 2)] == 0)\n",
    "                ps = string(ps, \"I\")\n",
    "            elseif (ecc[i, j] == 1) && (ecc[i, j + Int(eccx / 2)] == 0)\n",
    "                ps = string(ps, \"X\")\n",
    "            elseif (ecc[i, j] == 1) && (ecc[i, j + Int(eccx / 2)] == 1)\n",
    "                ps = string(ps, \"Y\")\n",
    "            else\n",
    "                ps = string(ps, \"Z\")\n",
    "            end\n",
    "        end\n",
    "        ps = string(ps,\"\\n\")\n",
    "    end\n",
    "    return ps\n",
    "end"
   ]
  },
  {
   "cell_type": "code",
   "execution_count": 7,
   "metadata": {},
   "outputs": [
    {
     "data": {
      "text/plain": [
       "GetZTableau (generic function with 1 method)"
      ]
     },
     "metadata": {},
     "output_type": "display_data"
    }
   ],
   "source": [
    "function GetXTableau(ecc::Matrix{Bool})\n",
    "    return ecc[1:size(ecc)[1], 1:Int(size(ecc)[2]/2)]\n",
    "end\n",
    "\n",
    "function GetZTableau(ecc::Matrix{Bool})\n",
    "    return ecc[1:size(ecc)[1], Int(size(ecc)[2]/2) + 1:end]\n",
    "end"
   ]
  },
  {
   "cell_type": "code",
   "execution_count": 9,
   "metadata": {},
   "outputs": [
    {
     "name": "stdout",
     "output_type": "stream",
     "text": [
      "Bool[1, 1, 0, 1, 0, 0, 0]\n",
      "Bool[1 1 0 1 0 0 0; 0 1 1 0 1 0 0; 0 0 1 1 0 1 0; 0 0 0 1 1 0 1; 1 0 0 0 1 1 0; 0 1 0 0 0 1 1; 1 0 1 0 0 0 1]\n"
     ]
    },
    {
     "name": "stdout",
     "output_type": "stream",
     "text": [
      "Bool[1 1 0 1 0 0 0 1 0 0 0 1 0 1; 0 1 1 0 1 0 0 1 1 0 0 0 1 0; 0 0 1 1 0 1 0 0 1 1 0 0 0 1; 0 0 0 1 1 0 1 1 0 1 1 0 0 0; 1 0 0 0 1 1 0 0 1 0 1 1 0 0; 0 1 0 0 0 1 1 0 0 1 0 1 1 0; 1 0 1 0 0 0 1 0 0 0 1 0 1 1]\n",
      "(14, 28)\n",
      "XXIXIIIXIIIXIX\n",
      "IXXIXIIXXIIIXI\n",
      "IIXXIXIIXXIIIX\n",
      "IIIXXIXXIXXIII\n",
      "XIIIXXIIXIXXII\n",
      "IXIIIXXIIXIXXI\n",
      "XIXIIIXIIIXIXX\n",
      "ZZIZIIIZIIIZIZ\n",
      "IZZIZIIZZIIIZI\n",
      "IIZZIZIIZZIIIZ\n",
      "IIIZZIZZIZZIII\n",
      "ZIIIZZIIZIZZII\n",
      "IZIIIZZIIZIZZI\n",
      "ZIZIIIZIIIZIZZ\n",
      "\n",
      "Bool[1 1 0 1 0 0 0 1 0 0 0 1 0 1; 0 1 1 0 1 0 0 1 1 0 0 0 1 0; 0 0 1 1 0 1 0 0 1 1 0 0 0 1; 0 0 0 1 1 0 1 1 0 1 1 0 0 0; 1 0 0 0 1 1 0 0 1 0 1 1 0 0; 0 1 0 0 0 1 1 0 0 1 0 1 1 0; 1 0 1 0 0 0 1 0 0 0 1 0 1 1; 0 0 0 0 0 0 0 0 0 0 0 0 0 0; 0 0 0 0 0 0 0 0 0 0 0 0 0 0; 0 0 0 0 0 0 0 0 0 0 0 0 0 0; 0 0 0 0 0 0 0 0 0 0 0 0 0 0; 0 0 0 0 0 0 0 0 0 0 0 0 0 0; 0 0 0 0 0 0 0 0 0 0 0 0 0 0; 0 0 0 0 0 0 0 0 0 0 0 0 0 0]\n",
      "Bool[0 0 0 0 0 0 0 0 0 0 0 0 0 0; 0 0 0 0 0 0 0 0 0 0 0 0 0 0; 0 0 0 0 0 0 0 0 0 0 0 0 0 0; 0 0 0 0 0 0 0 0 0 0 0 0 0 0; 0 0 0 0 0 0 0 0 0 0 0 0 0 0; 0 0 0 0 0 0 0 0 0 0 0 0 0 0; 0 0 0 0 0 0 0 0 0 0 0 0 0 0; 1 1 0 1 0 0 0 1 0 0 0 1 0 1; 0 1 1 0 1 0 0 1 1 0 0 0 1 0; 0 0 1 1 0 1 0 0 1 1 0 0 0 1; 0 0 0 1 1 0 1 1 0 1 1 0 0 0; 1 0 0 0 1 1 0 0 1 0 1 1 0 0; 0 1 0 0 0 1 1 0 0 1 0 1 1 0; 1 0 1 0 0 0 1 0 0 0 1 0 1 1]\n"
     ]
    }
   ],
   "source": [
    "BicycleH7 = Circ2BicycleH([0, 1, 3], 7)\n",
    "println(BicycleH7)\n",
    "# println(size(BicycleH7))\n",
    "Bicycle7 = AssembleCSS(BicycleH7, BicycleH7)\n",
    "# println(Bicycle7)\n",
    "println(GetCodeTableau(Bicycle7))\n",
    "println(GetXTableau(Bicycle7))\n",
    "println(GetZTableau(Bicycle7))"
   ]
  },
  {
   "cell_type": "code",
   "execution_count": 266,
   "metadata": {},
   "outputs": [
    {
     "data": {
      "text/plain": [
       "AssembleCSS (generic function with 1 method)"
      ]
     },
     "metadata": {},
     "output_type": "display_data"
    }
   ],
   "source": [
    "function AssembleCSS(H::Matrix{Bool}, G::Matrix{Bool})\n",
    "    Hy = size(H)[1]\n",
    "    Hx = size(H)[2]\n",
    "    Gy = size(G)[1]\n",
    "    Gx = size(G)[2]\n",
    "    comp_matrix = fill(false, (Hy + Gy, Hx + Gx))\n",
    "    # comp_matrix = Matrix{Bool}(undef, Hy + Gy, Hx + Gx)\n",
    "    comp_matrix[1:Hy, 1:Hx] = H\n",
    "    comp_matrix[Hy+1:end, Hx+1:end] = H\n",
    "    return comp_matrix\n",
    "end"
   ]
  },
  {
   "cell_type": "code",
   "execution_count": 267,
   "metadata": {},
   "outputs": [
    {
     "name": "stdout",
     "output_type": "stream",
     "text": [
      "Bool[1 1 0 1 0 0 0 1 0 0 0 1 0 1 0 0 0 0 0 0 0 0 0 0 0 0 0 0; 0 1 1 0 1 0 0 1 1 0 0 0 1 0 0 0 0 0 0 0 0 0 0 0 0 0 0 0; 0 0 1 1 0 1 0 0 1 1 0 0 0 1 0 0 0 0 0 0 0 0 0 0 0 0 0 0; 0 0 0 1 1 0 1 1 0 1 1 0 0 0 0 0 0 0 0 0 0 0 0 0 0 0 0 0; 1 0 0 0 1 1 0 0 1 0 1 1 0 0 0 0 0 0 0 0 0 0 0 0 0 0 0 0; 0 1 0 0 0 1 1 0 0 1 0 1 1 0 0 0 0 0 0 0 0 0 0 0 0 0 0 0; 1 0 1 0 0 0 1 0 0 0 1 0 1 1 0 0 0 0 0 0 0 0 0 0 0 0 0 0; 0 0 0 0 0 0 0 0 0 0 0 0 0 0 1 1 0 1 0 0 0 1 0 0 0 1 0 1; 0 0 0 0 0 0 0 0 0 0 0 0 0 0 0 1 1 0 1 0 0 1 1 0 0 0 1 0; 0 0 0 0 0 0 0 0 0 0 0 0 0 0 0 0 1 1 0 1 0 0 1 1 0 0 0 1; 0 0 0 0 0 0 0 0 0 0 0 0 0 0 0 0 0 1 1 0 1 1 0 1 1 0 0 0; 0 0 0 0 0 0 0 0 0 0 0 0 0 0 1 0 0 0 1 1 0 0 1 0 1 1 0 0; 0 0 0 0 0 0 0 0 0 0 0 0 0 0 0 1 0 0 0 1 1 0 0 1 0 1 1 0; 0 0 0 0 0 0 0 0 0 0 0 0 0 0 1 0 1 0 0 0 1 0 0 0 1 0 1 1]\n"
     ]
    }
   ],
   "source": [
    "H_0 = Circ2H([1, 2, 4], 7)\n",
    "Bi = AssembleCSS(H_0, H_0)\n",
    "\n",
    "println(Bi)"
   ]
  },
  {
   "cell_type": "code",
   "execution_count": 268,
   "metadata": {},
   "outputs": [
    {
     "name": "stdout",
     "output_type": "stream",
     "text": [
      "Bool[1 1 0 1 0 0 0 1 0 0 0 1 0 1; 0 1 1 0 1 0 0 1 1 0 0 0 1 0; 0 0 1 1 0 1 0 0 1 1 0 0 0 1; 0 0 0 1 1 0 1 1 0 1 1 0 0 0; 1 0 0 0 1 1 0 0 1 0 1 1 0 0; 0 1 0 0 0 1 1 0 0 1 0 1 1 0; 1 0 1 0 0 0 1 0 0 0 1 0 1 1]\n",
      "7\n"
     ]
    }
   ],
   "source": [
    "circ_indices = [1, 2, 4]\n",
    "n = 7\n",
    "circ_arr = fill(false, n)\n",
    "circ_matrix = Matrix{Bool}(undef, n, n)\n",
    "comp_matrix = Matrix{Bool}(undef, n, 2*n)\n",
    "for i = 1:n\n",
    "    if i in circ_indices\n",
    "        circ_arr[i] = true\n",
    "    else\n",
    "        circ_arr[i] = false\n",
    "    end\n",
    "end\n",
    "for i = 1:n\n",
    "    circ_matrix[i,1:n] = circ_arr\n",
    "    li = circ_arr[end]\n",
    "    circ_arr[2:end] = circ_arr[1:end-1]\n",
    "    circ_arr[1] = li\n",
    "end\n",
    "comp_matrix[1:n,1:n] = circ_matrix\n",
    "comp_matrix[1:n,n+1:2*n] = transpose(circ_matrix)\n",
    "println(comp_matrix)\n",
    "println(size(comp_matrix)[1])"
   ]
  }
 ],
 "metadata": {
  "kernelspec": {
   "display_name": "Julia 1.9.3",
   "language": "julia",
   "name": "julia-1.9"
  },
  "language_info": {
   "file_extension": ".jl",
   "mimetype": "application/julia",
   "name": "julia",
   "version": "1.9.3"
  },
  "orig_nbformat": 4
 },
 "nbformat": 4,
 "nbformat_minor": 2
}
