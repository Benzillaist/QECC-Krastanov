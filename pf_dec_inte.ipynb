{
 "cells": [
  {
   "cell_type": "code",
   "execution_count": 1,
   "metadata": {},
   "outputs": [],
   "source": [
    "using LDPCDecoders\n",
    "using Test\n",
    "using SparseArrays\n",
    "\n",
    "using Revise\n",
    "using CairoMakie      # For plotting (incluing tableau diagrams)\n",
    "using Quantikz        # For drawing quantum circuits\n",
    "using QuantumClifford # For quantum Clifford circuits\n",
    "using QuantumClifford.ECC: parity_checks, Steane7, Shor9, naive_syndrome_circuit, faults_matrix, naive_syndrome_circuit, parity_checks, AbstractECC, naive_encoding_circuit, Cleve8, Steane7, Shor9, Perfect5\n",
    "using LinearAlgebra\n",
    "using SparseArrays"
   ]
  },
  {
   "cell_type": "code",
   "execution_count": 2,
   "metadata": {},
   "outputs": [
    {
     "name": "stdout",
     "output_type": "stream",
     "text": [
      "Syndrome: "
     ]
    },
    {
     "name": "stdout",
     "output_type": "stream",
     "text": [
      "Bool[0, 0, 0, 0, 0, 0]\n",
      "Guess: Bool[0, 0, 0, 0, 0, 0, 0, 0, 0, 0, 0, 0, 0, 0]\n",
      "O: "
     ]
    },
    {
     "name": "stdout",
     "output_type": "stream",
     "text": [
      "Bool[0 0 0 0 0 0 0 0 0 1 0 1 1 0; 0 1 0 1 0 1 0 0 0 0 0 0 0 0]\n",
      "Guess: Bool[0, 0, 0, 0, 0, 0, 0, 0, 0, 0, 0, 0, 0, 0]\n",
      "Mult: "
     ]
    },
    {
     "name": "stdout",
     "output_type": "stream",
     "text": [
      "[0, 0]\n",
      "result_Z: [0]\n",
      "logic synd: Bool[0]\n",
      "Decoded!"
     ]
    },
    {
     "name": "stdout",
     "output_type": "stream",
     "text": [
      "\n",
      "Syndrome: Bool[0, 0, 0, 0, 0, 0]\n",
      "Guess: Bool[0, 0, 0, 0, 0, 0, 0, 0, 0, 0, 0, 0, 0, 0]\n",
      "O: Bool[0 0 0 0 0 0 0 0 0 1 0 1 1 0; 0 1 0 1 0 1 0 0 0 0 0 0 0 0]\n",
      "Guess: Bool[0, 0, 0, 0, 0, 0, 0, 0, 0, 0, 0, 0, 0, 0]\n",
      "Mult: [0, 0]\n",
      "result_Z: [0]\n",
      "logic synd: Bool[0]\n",
      "Decoded!\n",
      "Syndrome: Bool[0, 0, 0, 0, 0, 0]\n",
      "Guess: Bool[0, 0, 0, 0, 0, 0, 0, 0, 0, 0, 0, 0, 0, 0]\n",
      "O: Bool[0 0 0 0 0 0 0 0 0 1 0 1 1 0; 0 1 0 1 0 1 0 0 0 0 0 0 0 0]\n",
      "Guess: Bool[0, 0, 0, 0, 0, 0, 0, 0, 0, 0, 0, 0, 0, 0]\n",
      "Mult: [0, 0]\n",
      "result_Z: [0]\n",
      "logic synd: Bool[0]\n",
      "Decoded!\n"
     ]
    },
    {
     "name": "stdout",
     "output_type": "stream",
     "text": [
      "Syndrome: Bool[0, 0, 0, 0, 0, 0]\n",
      "Guess: Bool[0, 0, 0, 0, 0, 0, 0, 0, 0, 0, 0, 0, 0, 0]\n",
      "O: Bool[0 0 0 0 0 0 0 0 0 1 0 1 1 0; 0 1 0 1 0 1 0 0 0 0 0 0 0 0]\n",
      "Guess: Bool[0, 0, 0, 0, 0, 0, 0, 0, 0, 0, 0, 0, 0, 0]\n",
      "Mult: [0, 0]\n",
      "result_Z: [0]\n",
      "logic synd: Bool[0]\n",
      "Decoded!\n",
      "Syndrome: Bool[0, 0, 0, 0, 0, 0]\n",
      "Guess: Bool[0, 0, 0, 0, 0, 0, 0, 0, 0, 0, 0, 0, 0, 0]\n",
      "O: Bool[0 0 0 0 0 0 0 0 0 1 0 1 1 0; 0 1 0 1 0 1 0 0 0 0 0 0 0 0]\n",
      "Guess: Bool[0, 0, 0, 0, 0, 0, 0, 0, 0, 0, 0, 0, 0, 0]\n",
      "Mult: [0, 0]\n",
      "result_Z: [0]\n",
      "logic synd: Bool[0]\n",
      "Decoded!\n",
      "Syndrome: Bool[0, 0, 0, 0, 0, 0]\n",
      "Guess: Bool[0, 0, 0, 0, 0, 0, 0, 0, 0, 0, 0, 0, 0, 0]\n",
      "O: Bool[0 0 0 0 0 0 0 0 0 1 0 1 1 0; 0 1 0 1 0 1 0 0 0 0 0 0 0 0]\n",
      "Guess: Bool[0, 0, 0, 0, 0, 0, 0, 0, 0, 0, 0, 0, 0, 0]\n",
      "Mult: [0, 0]\n",
      "result_Z: [0]\n",
      "logic synd: Bool[0]\n",
      "Decoded!\n"
     ]
    },
    {
     "name": "stdout",
     "output_type": "stream",
     "text": [
      "Syndrome: Bool[0, 0, 0, 0, 0, 1]\n",
      "Guess: Bool[0, 0, 0, 0, 0, 0, 0, 1, 0, 0, 0, 0, 0, 0]\n",
      "O: Bool[0 0 0 0 0 0 0 0 0 1 0 1 1 0; 0 1 0 1 0 1 0 0 0 0 0 0 0 0]\n",
      "Guess: Bool[0, 0, 0, 0, 0, 0, 0, 1, 0, 0, 0, 0, 0, 0]\n",
      "Mult: [0, 0]\n",
      "result_Z: [0]\n",
      "logic synd: Bool[0]\n",
      "Decoded!\n",
      "Syndrome: Bool[0, 0, 0, 0, 0, 0]\n",
      "Guess: Bool[0, 0, 0, 0, 0, 0, 0, 0, 0, 0, 0, 0, 0, 0]\n",
      "O: Bool[0 0 0 0 0 0 0 0 0 1 0 1 1 0; 0 1 0 1 0 1 0 0 0 0 0 0 0 0]\n",
      "Guess: Bool[0, 0, 0, 0, 0, 0, 0, 0, 0, 0, 0, 0, 0, 0]\n",
      "Mult: [0, 0]\n",
      "result_Z: [0]\n",
      "logic synd: Bool[0]\n",
      "Decoded!\n",
      "Syndrome: Bool[0, 0, 0, 0, 0, 0]\n",
      "Guess: Bool[0, 0, 0, 0, 0, 0, 0, 0, 0, 0, 0, 0, 0, 0]\n",
      "O: Bool[0 0 0 0 0 0 0 0 0 1 0 1 1 0; 0 1 0 1 0 1 0 0 0 0 0 0 0 0]\n",
      "Guess: Bool[0, 0, 0, 0, 0, 0, 0, 0, 0, 0, 0, 0, 0, 0]\n",
      "Mult: [0, 0]\n",
      "result_Z: [0]\n",
      "logic synd: Bool[0]\n",
      "Decoded!"
     ]
    },
    {
     "name": "stdout",
     "output_type": "stream",
     "text": [
      "\n",
      "Syndrome: Bool[0, 0, 0, 0, 0, 0]\n",
      "Guess: Bool[0, 0, 0, 0, 0, 0, 0, 0, 0, 0, 0, 0, 0, 0]\n",
      "O: Bool[0 0 0 0 0 0 0 0 0 1 0 1 1 0; 0 1 0 1 0 1 0 0 0 0 0 0 0 0]\n",
      "Guess: Bool[0, 0, 0, 0, 0, 0, 0, 0, 0, 0, 0, 0, 0, 0]\n",
      "Mult: [0, 0]\n",
      "result_Z: [0]\n",
      "logic synd: Bool[0]\n",
      "Decoded!\n",
      "Syndrome: Bool[0, 0, 0, 0, 0, 0]\n",
      "Guess: Bool[0, 0, 0, 0, 0, 0, 0, 0, 0, 0, 0, 0, 0, 0]\n",
      "O: Bool[0 0 0 0 0 0 0 0 0 1 0 1 1 0; 0 1 0 1 0 1 0 0 0 0 0 0 0 0]\n",
      "Guess: Bool[0, 0, 0, 0, 0, 0, 0, 0, 0, 0, 0, 0, 0, 0]\n",
      "Mult: [0, 0]\n",
      "result_Z: [0]\n",
      "logic synd: Bool[0]\n",
      "Decoded!\n",
      "Syndrome: Bool[0, 0, 0, 0, 0, 0]\n",
      "Guess: Bool[0, 0, 0, 0, 0, 0, 0, 0, 0, 0, 0, 0, 0, 0]\n",
      "O: Bool[0 0 0 0 0 0 0 0 0 1 0 1 1 0; 0 1 0 1 0 1 0 0 0 0 0 0 0 0]\n",
      "Guess: Bool[0, 0, 0, 0, 0, 0, 0, 0, 0, 0, 0, 0, 0, 0]\n",
      "Mult: [0, 0]\n",
      "result_Z: [0]\n",
      "logic synd: Bool[0]\n",
      "Decoded!"
     ]
    },
    {
     "name": "stdout",
     "output_type": "stream",
     "text": [
      "\n",
      "Syndrome: Bool[0, 0, 0, 0, 0, 0]\n",
      "Guess: Bool[0, 0, 0, 0, 0, 0, 0, 0, 0, 0, 0, 0, 0, 0]\n",
      "O: Bool[0 0 0 0 0 0 0 0 0 1 0 1 1 0; 0 1 0 1 0 1 0 0 0 0 0 0 0 0]\n",
      "Guess: Bool[0, 0, 0, 0, 0, 0, 0, 0, 0, 0, 0, 0, 0, 0]\n",
      "Mult: [0, 0]\n",
      "result_Z: [0]\n",
      "logic synd: Bool[0]\n",
      "Decoded!\n",
      "Syndrome: Bool[1, 0, 1, 1, 0, 1]\n",
      "Guess: Bool[0, 0, 0, 0, 0, 0, 0, 0, 0, 0, 0, 1, 0, 0]\n",
      "O: Bool[0 0 0 0 0 0 0 0 0 1 0 1 1 0; 0 1 0 1 0 1 0 0 0 0 0 0 0 0]\n",
      "Guess: Bool[0, 0, 0, 0, 0, 0, 0, 0, 0, 0, 0, 1, 0, 0]\n",
      "Mult: [1, 0]\n",
      "result_Z: [0]\n",
      "logic synd: Bool[1]\n",
      "Syndrome: Bool[0, 0, 0, 0, 0, 0]\n",
      "Guess: Bool[0, 0, 0, 0, 0, 0, 0, 0, 0, 0, 0, 0, 0, 0]\n",
      "O: Bool[0 0 0 0 0 0 0 0 0 1 0 1 1 0; 0 1 0 1 0 1 0 0 0 0 0 0 0 0]\n",
      "Guess: Bool[0, 0, 0, 0, 0, 0, 0, 0, 0, 0, 0, 0, 0, 0]\n",
      "Mult: [0, 0]\n",
      "result_Z: [0]\n",
      "logic synd: Bool[0]\n",
      "Decoded!"
     ]
    },
    {
     "name": "stdout",
     "output_type": "stream",
     "text": [
      "\n",
      "Syndrome: Bool[0, 0, 0, 0, 0, 0]\n",
      "Guess: Bool[0, 0, 0, 0, 0, 0, 0, 0, 0, 0, 0, 0, 0, 0]\n",
      "O: Bool[0 0 0 0 0 0 0 0 0 1 0 1 1 0; 0 1 0 1 0 1 0 0 0 0 0 0 0 0]\n",
      "Guess: Bool[0, 0, 0, 0, 0, 0, 0, 0, 0, 0, 0, 0, 0, 0]\n",
      "Mult: [0, 0]\n",
      "result_Z: [0]\n",
      "logic synd: Bool[0]\n",
      "Decoded!\n",
      "Syndrome: Bool[1, 1, 0, 0, 0, 0]\n",
      "Guess: Bool[0, 0, 0, 0, 0, 0, 0, 0, 0, 0, 0, 0, 0, 0]\n",
      "O: Bool[0 0 0 0 0 0 0 0 0 1 0 1 1 0; 0 1 0 1 0 1 0 0 0 0 0 0 0 0]\n",
      "Guess: Bool[0, 0, 0, 0, 0, 0, 0, 0, 0, 0, 0, 0, 0, 0]\n",
      "Mult: [0, 0]\n",
      "result_Z: [0]\n",
      "logic synd: Bool[0]\n",
      "Decoded!\n",
      "Syndrome: Bool[0, 0, 0, 0, 0, 0]\n",
      "Guess: Bool[0, 0, 0, 0, 0, 0, 0, 0, 0, 0, 0, 0, 0, 0]\n",
      "O: Bool[0 0 0 0 0 0 0 0 0 1 0 1 1 0; 0 1 0 1 0 1 0 0 0 0 0 0 0 0]\n",
      "Guess: Bool[0, 0, 0, 0, 0, 0, 0, 0, 0, 0, 0, 0, 0, 0]\n",
      "Mult: [0, 0]\n",
      "result_Z: [0]\n",
      "logic synd: Bool[0]\n",
      "Decoded!"
     ]
    },
    {
     "name": "stdout",
     "output_type": "stream",
     "text": [
      "\n",
      "Syndrome: Bool[0, 1, 0, 0, 0, 0]\n",
      "Guess: Bool[0, 0, 0, 0, 0, 0, 0, 0, 0, 0, 0, 0, 0, 0]\n",
      "O: Bool[0 0 0 0 0 0 0 0 0 1 0 1 1 0; 0 1 0 1 0 1 0 0 0 0 0 0 0 0]\n",
      "Guess: Bool[0, 0, 0, 0, 0, 0, 0, 0, 0, 0, 0, 0, 0, 0]\n",
      "Mult: [0, 0]\n",
      "result_Z: [0]\n",
      "logic synd: Bool[0]\n",
      "Decoded!\n",
      "Syndrome: Bool[0, 1, 1, 0, 0, 0]\n",
      "Guess: Bool[0, 0, 0, 0, 0, 0, 0, 0, 0, 0, 0, 0, 0, 0]\n",
      "O: Bool[0 0 0 0 0 0 0 0 0 1 0 1 1 0; 0 1 0 1 0 1 0 0 0 0 0 0 0 0]\n",
      "Guess: Bool[0, 0, 0, 0, 0, 0, 0, 0, 0, 0, 0, 0, 0, 0]\n",
      "Mult: [0, 0]\n",
      "result_Z: [0]\n",
      "logic synd: Bool[0]\n",
      "Decoded!\n",
      "Syndrome: Bool[0, 0, 0, 0, 0, 0]\n",
      "Guess: Bool[0, 0, 0, 0, 0, 0, 0, 0, 0, 0, 0, 0, 0, 0]\n",
      "O: Bool[0 0 0 0 0 0 0 0 0 1 0 1 1 0; 0 1 0 1 0 1 0 0 0 0 0 0 0 0]\n",
      "Guess: Bool[0, 0, 0, 0, 0, 0, 0, 0, 0, 0, 0, 0, 0, 0]\n",
      "Mult: [0, 0]\n",
      "result_Z: [0]\n",
      "logic synd: Bool[0]\n",
      "Decoded!"
     ]
    },
    {
     "name": "stdout",
     "output_type": "stream",
     "text": [
      "\n",
      "Syndrome: Bool[0, 0, 0, 0, 0, 0]\n",
      "Guess: Bool[0, 0, 0, 0, 0, 0, 0, 0, 0, 0, 0, 0, 0, 0]\n",
      "O: Bool[0 0 0 0 0 0 0 0 0 1 0 1 1 0; 0 1 0 1 0 1 0 0 0 0 0 0 0 0]\n",
      "Guess: Bool[0, 0, 0, 0, 0, 0, 0, 0, 0, 0, 0, 0, 0, 0]\n",
      "Mult: [0, 0]\n",
      "result_Z: [0]\n",
      "logic synd: Bool[0]\n",
      "Decoded!\n",
      "Syndrome: Bool[0, 0, 0, 0, 1, 0]\n",
      "Guess: Bool[0, 0, 0, 0, 0, 0, 0, 0, 1, 0, 0, 0, 0, 0]\n",
      "O: Bool[0 0 0 0 0 0 0 0 0 1 0 1 1 0; 0 1 0 1 0 1 0 0 0 0 0 0 0 0]\n",
      "Guess: Bool[0, 0, 0, 0, 0, 0, 0, 0, 1, 0, 0, 0, 0, 0]\n",
      "Mult: [0, 0]\n",
      "result_Z: [0]\n",
      "logic synd: Bool[1]\n"
     ]
    },
    {
     "name": "stdout",
     "output_type": "stream",
     "text": [
      "Syndrome: Bool[0, 0, 0, 0, 0, 0]\n",
      "Guess: Bool[0, 0, 0, 0, 0, 0, 0, 0, 0, 0, 0, 0, 0, 0]\n",
      "O: Bool[0 0 0 0 0 0 0 0 0 1 0 1 1 0; 0 1 0 1 0 1 0 0 0 0 0 0 0 0]\n",
      "Guess: Bool[0, 0, 0, 0, 0, 0, 0, 0, 0, 0, 0, 0, 0, 0]\n",
      "Mult: [0, 0]\n",
      "result_Z: [0]\n",
      "logic synd: Bool[0]\n",
      "Decoded!\n",
      "Syndrome: Bool[1, 1, 0, 0, 0, 0]\n",
      "Guess: Bool[0, 0, 0, 0, 0, 0, 0, 0, 0, 0, 0, 0, 0, 0]\n",
      "O: Bool[0 0 0 0 0 0 0 0 0 1 0 1 1 0; 0 1 0 1 0 1 0 0 0 0 0 0 0 0]\n",
      "Guess: Bool[0, 0, 0, 0, 0, 0, 0, 0, 0, 0, 0, 0, 0, 0]\n",
      "Mult: [0, 0]\n",
      "result_Z: [0]\n",
      "logic synd: Bool[0]\n",
      "Decoded!\n",
      "Syndrome: Bool[0, 0, 0, 0, 0, 0]\n",
      "Guess: Bool[0, 0, 0, 0, 0, 0, 0, 0, 0, 0, 0, 0, 0, 0]\n",
      "O: Bool[0 0 0 0 0 0 0 0 0 1 0 1 1 0; 0 1 0 1 0 1 0 0 0 0 0 0 0 0]\n",
      "Guess: Bool[0, 0, 0, 0, 0, 0, 0, 0, 0, 0, 0, 0, 0, 0]\n",
      "Mult: [0, 0]\n",
      "result_Z: [0]\n",
      "logic synd: Bool[0]\n",
      "Decoded!"
     ]
    },
    {
     "name": "stdout",
     "output_type": "stream",
     "text": [
      "\n",
      "Syndrome: Bool[0, 0, 0, 0, 0, 0]\n",
      "Guess: Bool[0, 0, 0, 0, 0, 0, 0, 0, 0, 0, 0, 0, 0, 0]\n",
      "O: Bool[0 0 0 0 0 0 0 0 0 1 0 1 1 0; 0 1 0 1 0 1 0 0 0 0 0 0 0 0]\n",
      "Guess: Bool[0, 0, 0, 0, 0, 0, 0, 0, 0, 0, 0, 0, 0, 0]\n",
      "Mult: [0, 0]\n",
      "result_Z: [0]\n",
      "logic synd: Bool[0]\n",
      "Decoded!\n",
      "Syndrome: Bool[0, 0, 0, 0, 0, 1]\n",
      "Guess: Bool[0, 0, 0, 0, 0, 0, 0, 1, 0, 0, 0, 0, 0, 0]\n",
      "O: Bool[0 0 0 0 0 0 0 0 0 1 0 1 1 0; 0 1 0 1 0 1 0 0 0 0 0 0 0 0]\n",
      "Guess: Bool[0, 0, 0, 0, 0, 0, 0, 1, 0, 0, 0, 0, 0, 0]\n",
      "Mult: [0, 0]\n",
      "result_Z: [0]\n",
      "logic synd: Bool[0]\n",
      "Decoded!\n",
      "Syndrome: Bool[0, 1, 1, 0, 1, 1]\n",
      "Guess: Bool[0, 0, 0, 0, 0, 0, 0, 0, 0, 1, 0, 0, 0, 0]\n",
      "O: Bool[0 0 0 0 0 0 0 0 0 1 0 1 1 0; 0 1 0 1 0 1 0 0 0 0 0 0 0 0]\n",
      "Guess: Bool[0, 0, 0, 0, 0, 0, 0, 0, 0, 1, 0, 0, 0, 0]\n",
      "Mult: [1, 0]\n",
      "result_Z: [0]\n",
      "logic synd: Bool[0]\n",
      "Decoded!"
     ]
    },
    {
     "name": "stdout",
     "output_type": "stream",
     "text": [
      "\n",
      "Syndrome: Bool[0, 0, 0, 0, 0, 0]\n",
      "Guess: Bool[0, 0, 0, 0, 0, 0, 0, 0, 0, 0, 0, 0, 0, 0]\n",
      "O: Bool[0 0 0 0 0 0 0 0 0 1 0 1 1 0; 0 1 0 1 0 1 0 0 0 0 0 0 0 0]\n",
      "Guess: Bool[0, 0, 0, 0, 0, 0, 0, 0, 0, 0, 0, 0, 0, 0]\n",
      "Mult: [0, 0]\n",
      "result_Z: [0]\n",
      "logic synd: Bool[0]\n",
      "Decoded!\n",
      "Syndrome: Bool[0, 0, 0, 0, 0, 0]\n",
      "Guess: Bool[0, 0, 0, 0, 0, 0, 0, 0, 0, 0, 0, 0, 0, 0]\n",
      "O: Bool[0 0 0 0 0 0 0 0 0 1 0 1 1 0; 0 1 0 1 0 1 0 0 0 0 0 0 0 0]\n",
      "Guess: Bool[0, 0, 0, 0, 0, 0, 0, 0, 0, 0, 0, 0, 0, 0]\n",
      "Mult: [0, 0]\n",
      "result_Z: [0]\n",
      "logic synd: Bool[0]\n",
      "Decoded!\n",
      "Syndrome: Bool[0, 0, 0, 0, 0, 0]\n",
      "Guess: Bool[0, 0, 0, 0, 0, 0, 0, 0, 0, 0, 0, 0, 0, 0]\n",
      "O: Bool[0 0 0 0 0 0 0 0 0 1 0 1 1 0; 0 1 0 1 0 1 0 0 0 0 0 0 0 0]\n",
      "Guess: Bool[0, 0, 0, 0, 0, 0, 0, 0, 0, 0, 0, 0, 0, 0]\n",
      "Mult: [0, 0]\n",
      "result_Z: [0]\n",
      "logic synd: Bool[0]\n",
      "Decoded!"
     ]
    },
    {
     "name": "stdout",
     "output_type": "stream",
     "text": [
      "\n",
      "Syndrome: Bool[1, 0, 1, 1, 1, 1]\n",
      "Guess: Bool[0, 0, 0, 0, 0, 0, 0, 0, 0, 1, 0, 1, 1, 1]\n",
      "O: Bool[0 0 0 0 0 0 0 0 0 1 0 1 1 0; 0 1 0 1 0 1 0 0 0 0 0 0 0 0]\n",
      "Guess: Bool[0, 0, 0, 0, 0, 0, 0, 0, 0, 1, 0, 1, 1, 1]\n",
      "Mult: [3, 0]\n",
      "result_Z: [0]\n",
      "logic synd: Bool[1]\n",
      "x_error: "
     ]
    },
    {
     "name": "stdout",
     "output_type": "stream",
     "text": [
      "[0.0, 0.005600000000000049, 0.011700000000000044, 0.013399999999999967, 0.02090000000000003, 0.02639999999999998, 0.028200000000000003, 0.031100000000000017, 0.040200000000000014, 0.04200000000000004, 0.04910000000000003, 0.056499999999999995, 0.05800000000000005, 0.06120000000000003, 0.07099999999999995, 0.07440000000000002, 0.07730000000000004, 0.0766, 0.0867, 0.0917, 0.09619999999999995, 0.09509999999999996, 0.10109999999999997, 0.10599999999999998, 0.11080000000000001, 0.11770000000000003, 0.12419999999999998, 0.12529999999999997, 0.12290000000000001, 0.137, 0.13249999999999995, 0.14329999999999998, 0.1432] z_error: [0.0, 0.0041999999999999815, 0.009399999999999964, 0.015199999999999991, 0.022299999999999986, 0.0232, 0.028699999999999948, 0.031299999999999994, 0.04059999999999997, 0.04249999999999998, 0.050899999999999945, 0.0534, 0.05600000000000005, 0.060799999999999965, 0.07010000000000005, 0.06730000000000003, 0.07369999999999999, 0.08099999999999996, 0.0807, 0.08750000000000002, 0.0948, 0.09899999999999998, 0.10129999999999995, 0.11140000000000005, 0.10880000000000001, 0.11609999999999998, 0.11980000000000002, 0.12209999999999999, 0.13180000000000003, 0.129, 0.14600000000000002, 0.13260000000000005, 0.14290000000000003]\n"
     ]
    }
   ],
   "source": [
    "include(\"util/CSS_builder.jl\")\n",
    "include(\"util/QECC_Decoders.jl\")\n",
    "include(\"util/QECC_Tests.jl\")\n",
    "include(\"util/pfcircuit_eval.jl\")\n",
    "\n",
    "using .CSS_Builder\n",
    "using .QECC_Decoders\n",
    "using .QECC_Tests\n",
    "using .PauliFrame_Eval"
   ]
  },
  {
   "cell_type": "code",
   "execution_count": 3,
   "metadata": {},
   "outputs": [
    {
     "data": {
      "text/plain": [
       "3×1 Matrix{Int64}:\n",
       " 0\n",
       " 1\n",
       " 1"
      ]
     },
     "metadata": {},
     "output_type": "display_data"
    }
   ],
   "source": [
    "error_rate = 0.1\n",
    "    \n",
    "pcm = [1 0 1 0 1 0 1; 0 1 1 0 0 1 1; 0 0 0 1 1 1 1]\n",
    "num_bits = 7\n",
    "num_checks = 3\n",
    "error = [0 0 0 0 0 1 0]\n",
    "syn = (pcm * error') .% 2\n",
    "display(syn)"
   ]
  },
  {
   "cell_type": "code",
   "execution_count": 4,
   "metadata": {},
   "outputs": [
    {
     "name": "stdout",
     "output_type": "stream",
     "text": [
      "[1 0 1 0 1 0 1; 0 1 1 0 0 1 1; 0 0 0 1 1 1 1]\n"
     ]
    },
    {
     "name": "stdout",
     "output_type": "stream",
     "text": [
      "sparse([1, 2, 1, 2, 3, 1, 3, 2, 3, 1, 2, 3], [1, 2, 3, 3, 4, 5, 5, 6, 6, 7, 7, 7], [1, 1, 1, 1, 1, 1, 1, 1, 1, 1, 1, 1], 3, 7)\n"
     ]
    }
   ],
   "source": [
    "println(pcm)\n",
    "println(sparse(pcm))"
   ]
  },
  {
   "cell_type": "code",
   "execution_count": 5,
   "metadata": {},
   "outputs": [
    {
     "name": "stdout",
     "output_type": "stream",
     "text": [
      "[0.0, 0.0, 0.0, 0.0, 0.0, 1.0, 0.0]"
     ]
    },
    {
     "name": "stdout",
     "output_type": "stream",
     "text": [
      "\n",
      "\u001b[0m\u001b[1mTest Summary:   | \u001b[22m\u001b[32m\u001b[1mPass  \u001b[22m\u001b[39m\u001b[36m\u001b[1mTotal  \u001b[22m\u001b[39m\u001b[0m\u001b[1mTime\u001b[22m\n",
      "LDPCDecoders.jl | \u001b[32m   1  \u001b[39m\u001b[36m    1  \u001b[39m\u001b[0m0.6s\n"
     ]
    },
    {
     "data": {
      "text/plain": [
       "Test.DefaultTestSet(\"LDPCDecoders.jl\", Any[], 1, false, false, true, 1.696606319179e9, 1.696606319805e9, false)"
      ]
     },
     "metadata": {},
     "output_type": "display_data"
    }
   ],
   "source": [
    "@testset \"LDPCDecoders.jl\" begin\n",
    "\n",
    "    args = (sparse(pcm), sparse(pcm'), syn, 10, fill(error_rate, num_bits), zeros(num_checks, num_bits), zeros(num_checks, num_bits), zeros(num_bits), zeros(num_bits))\n",
    "    decoded_error, success = syndrome_decode(args...)\n",
    "\n",
    "    @test decoded_error == vec(error)\n",
    "\n",
    "    println(decoded_error)\n",
    "\n",
    "end"
   ]
  },
  {
   "cell_type": "code",
   "execution_count": 6,
   "metadata": {},
   "outputs": [
    {
     "data": {
      "text/plain": [
       "14×28 Matrix{Bool}:\n",
       " 1  1  0  1  0  0  0  1  0  0  0  1  0  …  0  0  0  0  0  0  0  0  0  0  0  0\n",
       " 0  1  1  0  1  0  0  1  1  0  0  0  1     0  0  0  0  0  0  0  0  0  0  0  0\n",
       " 0  0  1  1  0  1  0  0  1  1  0  0  0     0  0  0  0  0  0  0  0  0  0  0  0\n",
       " 0  0  0  1  1  0  1  1  0  1  1  0  0     0  0  0  0  0  0  0  0  0  0  0  0\n",
       " 1  0  0  0  1  1  0  0  1  0  1  1  0     0  0  0  0  0  0  0  0  0  0  0  0\n",
       " 0  1  0  0  0  1  1  0  0  1  0  1  1  …  0  0  0  0  0  0  0  0  0  0  0  0\n",
       " 1  0  1  0  0  0  1  0  0  0  1  0  1     0  0  0  0  0  0  0  0  0  0  0  0\n",
       " 0  0  0  0  0  0  0  0  0  0  0  0  0     0  1  0  0  0  1  0  0  0  1  0  1\n",
       " 0  0  0  0  0  0  0  0  0  0  0  0  0     1  0  1  0  0  1  1  0  0  0  1  0\n",
       " 0  0  0  0  0  0  0  0  0  0  0  0  0     1  1  0  1  0  0  1  1  0  0  0  1\n",
       " 0  0  0  0  0  0  0  0  0  0  0  0  0  …  0  1  1  0  1  1  0  1  1  0  0  0\n",
       " 0  0  0  0  0  0  0  0  0  0  0  0  0     0  0  1  1  0  0  1  0  1  1  0  0\n",
       " 0  0  0  0  0  0  0  0  0  0  0  0  0     0  0  0  1  1  0  0  1  0  1  1  0\n",
       " 0  0  0  0  0  0  0  0  0  0  0  0  0     1  0  0  0  1  0  0  0  1  0  1  1"
      ]
     },
     "metadata": {},
     "output_type": "display_data"
    }
   ],
   "source": [
    "bn = 7\n",
    "b7 = AssembleCSS(Circ2BicycleH(BicycleSetGen(bn), bn));\n",
    "sb14 = Stabilizer(fill(0x0, 2*bn), GetXTableau(b7), GetZTableau(b7))\n",
    "\n",
    "stab_to_gf2(sb14)"
   ]
  },
  {
   "cell_type": "code",
   "execution_count": 7,
   "metadata": {},
   "outputs": [],
   "source": [
    "# sb14_checks = parity_checks(sb14)\n",
    "sb14_scirc, _ = naive_syndrome_circuit(sb14)\n",
    "sb14_ecirc = naive_encoding_circuit(sb14);"
   ]
  },
  {
   "cell_type": "code",
   "execution_count": 8,
   "metadata": {},
   "outputs": [
    {
     "name": "stdout",
     "output_type": "stream",
     "text": [
      "Syndrome: Bool[0, 0, 0, 0, 0, 0]\n",
      "Guess: Bool[0, 0, 0, 0, 0, 0, 0, 0, 0, 0, 0, 0, 0, 0]\n",
      "O: Bool[0 0 0 0 0 0 0 0 0 1 0 1 1 0; 0 1 0 1 0 1 0 0 0 0 0 0 0 0]\n",
      "Guess: Bool[0, 0, 0, 0, 0, 0, 0, 0, 0, 0, 0, 0, 0, 0]\n",
      "Mult: [0, 0]\n",
      "result_Z: [0]\n",
      "logic synd: Bool[0]\n",
      "Decoded!"
     ]
    },
    {
     "name": "stdout",
     "output_type": "stream",
     "text": [
      "\n",
      "Syndrome: Bool[0, 0, 0, 0, 0, 0]\n",
      "Guess: Bool[0, 0, 0, 0, 0, 0, 0, 0, 0, 0, 0, 0, 0, 0]\n",
      "O: Bool[0 0 0 0 0 0 0 0 0 1 0 1 1 0; 0 1 0 1 0 1 0 0 0 0 0 0 0 0]\n",
      "Guess: Bool[0, 0, 0, 0, 0, 0, 0, 0, 0, 0, 0, 0, 0, 0]\n",
      "Mult: [0, 0]\n",
      "result_Z: [0]\n",
      "logic synd: Bool[0]\n",
      "Decoded!\n",
      "Syndrome: Bool[0, 0, 0, 0, 0, 0]\n",
      "Guess: Bool[0, 0, 0, 0, 0, 0, 0, 0, 0, 0, 0, 0, 0, 0]\n",
      "O: Bool[0 0 0 0 0 0 0 0 0 1 0 1 1 0; 0 1 0 1 0 1 0 0 0 0 0 0 0 0]\n",
      "Guess: Bool[0, 0, 0, 0, 0, 0, 0, 0, 0, 0, 0, 0, 0, 0]\n",
      "Mult: [0, 0]\n",
      "result_Z: [0]\n",
      "logic synd: Bool[0]\n",
      "Decoded!"
     ]
    },
    {
     "name": "stdout",
     "output_type": "stream",
     "text": [
      "\n",
      "Syndrome: Bool[0, 0, 0, 0, 0, 0]\n",
      "Guess: Bool[0, 0, 0, 0, 0, 0, 0, 0, 0, 0, 0, 0, 0, 0]\n",
      "O: Bool[0 0 0 0 0 0 0 0 0 1 0 1 1 0; 0 1 0 1 0 1 0 0 0 0 0 0 0 0]\n",
      "Guess: Bool[0, 0, 0, 0, 0, 0, 0, 0, 0, 0, 0, 0, 0, 0]\n",
      "Mult: [0, 0]\n",
      "result_Z: [0]\n",
      "logic synd: Bool[0]\n",
      "Decoded!\n",
      "Syndrome: Bool[0, 0, 0, 0, 0, 0]\n",
      "Guess: Bool[0, 0, 0, 0, 0, 0, 0, 0, 0, 0, 0, 0, 0, 0]\n",
      "O: Bool[0 0 0 0 0 0 0 0 0 1 0 1 1 0; 0 1 0 1 0 1 0 0 0 0 0 0 0 0]\n",
      "Guess: Bool[0, 0, 0, 0, 0, 0, 0, 0, 0, 0, 0, 0, 0, 0]\n",
      "Mult: [0, 0]\n",
      "result_Z: [0]\n",
      "logic synd: Bool[0]\n",
      "Decoded!\n",
      "Syndrome: Bool[0, 0, 0, 0, 0, 0]\n",
      "Guess: Bool[0, 0, 0, 0, 0, 0, 0, 0, 0, 0, 0, 0, 0, 0]\n",
      "O: Bool[0 0 0 0 0 0 0 0 0 1 0 1 1 0; 0 1 0 1 0 1 0 0 0 0 0 0 0 0]\n",
      "Guess: Bool[0, 0, 0, 0, 0, 0, 0, 0, 0, 0, 0, 0, 0, 0]\n",
      "Mult: [0, 0]\n",
      "result_Z: [0]\n",
      "logic synd: Bool[0]\n",
      "Decoded!"
     ]
    },
    {
     "name": "stdout",
     "output_type": "stream",
     "text": [
      "\n",
      "Syndrome: Bool[0, 0, 0, 0, 0, 0]\n",
      "Guess: Bool[0, 0, 0, 0, 0, 0, 0, 0, 0, 0, 0, 0, 0, 0]\n",
      "O: Bool[0 0 0 0 0 0 0 0 0 1 0 1 1 0; 0 1 0 1 0 1 0 0 0 0 0 0 0 0]\n",
      "Guess: Bool[0, 0, 0, 0, 0, 0, 0, 0, 0, 0, 0, 0, 0, 0]\n",
      "Mult: [0, 0]\n",
      "result_Z: [0]\n",
      "logic synd: Bool[0]\n",
      "Decoded!\n",
      "Syndrome: Bool[0, 0, 0, 0, 0, 0]\n",
      "Guess: Bool[0, 0, 0, 0, 0, 0, 0, 0, 0, 0, 0, 0, 0, 0]\n",
      "O: Bool[0 0 0 0 0 0 0 0 0 1 0 1 1 0; 0 1 0 1 0 1 0 0 0 0 0 0 0 0]\n",
      "Guess: Bool[0, 0, 0, 0, 0, 0, 0, 0, 0, 0, 0, 0, 0, 0]\n",
      "Mult: [0, 0]\n",
      "result_Z: [0]\n",
      "logic synd: Bool[0]\n",
      "Decoded!\n",
      "Syndrome: Bool[0, 0, 0, 0, 0, 0]\n",
      "Guess: Bool[0, 0, 0, 0, 0, 0, 0, 0, 0, 0, 0, 0, 0, 0]\n",
      "O: Bool[0 0 0 0 0 0 0 0 0 1 0 1 1 0; 0 1 0 1 0 1 0 0 0 0 0 0 0 0]\n",
      "Guess: Bool[0, 0, 0, 0, 0, 0, 0, 0, 0, 0, 0, 0, 0, 0]\n",
      "Mult: [0, 0]\n",
      "result_Z: [0]\n",
      "logic synd: Bool[0]\n",
      "Decoded!"
     ]
    },
    {
     "name": "stdout",
     "output_type": "stream",
     "text": [
      "\n",
      "Syndrome: Bool[0, 0, 0, 0, 0, 0]\n",
      "Guess: Bool[0, 0, 0, 0, 0, 0, 0, 0, 0, 0, 0, 0, 0, 0]\n",
      "O: Bool[0 0 0 0 0 0 0 0 0 1 0 1 1 0; 0 1 0 1 0 1 0 0 0 0 0 0 0 0]\n",
      "Guess: Bool[0, 0, 0, 0, 0, 0, 0, 0, 0, 0, 0, 0, 0, 0]\n",
      "Mult: [0, 0]\n",
      "result_Z: [0]\n",
      "logic synd: Bool[0]\n",
      "Decoded!\n",
      "Syndrome: Bool[0, 0, 0, 0, 0, 0]\n",
      "Guess: Bool[0, 0, 0, 0, 0, 0, 0, 0, 0, 0, 0, 0, 0, 0]\n",
      "O: Bool[0 0 0 0 0 0 0 0 0 1 0 1 1 0; 0 1 0 1 0 1 0 0 0 0 0 0 0 0]\n",
      "Guess: Bool[0, 0, 0, 0, 0, 0, 0, 0, 0, 0, 0, 0, 0, 0]\n",
      "Mult: [0, 0]\n",
      "result_Z: [0]\n",
      "logic synd: Bool[0]\n",
      "Decoded!\n",
      "Syndrome: Bool[1, 1, 0, 1, 1, 0]\n",
      "Guess: Bool[0, 0, 0, 0, 0, 0, 0, 0, 0, 0, 0, 0, 1, 0]\n",
      "O: Bool[0 0 0 0 0 0 0 0 0 1 0 1 1 0; 0 1 0 1 0 1 0 0 0 0 0 0 0 0]\n",
      "Guess: Bool[0, 0, 0, 0, 0, 0, 0, 0, 0, 0, 0, 0, 1, 0]\n",
      "Mult: [1, 0]\n",
      "result_Z: [0]\n",
      "logic synd: Bool[1]\n"
     ]
    },
    {
     "name": "stdout",
     "output_type": "stream",
     "text": [
      "Syndrome: Bool[0, 0, 0, 0, 0, 0]\n",
      "Guess: Bool[0, 0, 0, 0, 0, 0, 0, 0, 0, 0, 0, 0, 0, 0]\n",
      "O: Bool[0 0 0 0 0 0 0 0 0 1 0 1 1 0; 0 1 0 1 0 1 0 0 0 0 0 0 0 0]\n",
      "Guess: Bool[0, 0, 0, 0, 0, 0, 0, 0, 0, 0, 0, 0, 0, 0]\n",
      "Mult: [0, 0]\n",
      "result_Z: [0]\n",
      "logic synd: Bool[0]\n",
      "Decoded!\n",
      "Syndrome: Bool[0, 0, 0, 0, 0, 0]\n",
      "Guess: Bool[0, 0, 0, 0, 0, 0, 0, 0, 0, 0, 0, 0, 0, 0]\n",
      "O: Bool[0 0 0 0 0 0 0 0 0 1 0 1 1 0; 0 1 0 1 0 1 0 0 0 0 0 0 0 0]\n",
      "Guess: Bool[0, 0, 0, 0, 0, 0, 0, 0, 0, 0, 0, 0, 0, 0]\n",
      "Mult: [0, 0]\n",
      "result_Z: [0]\n",
      "logic synd: Bool[0]\n",
      "Decoded!\n",
      "Syndrome: Bool[0, 0, 0, 0, 0, 0]\n",
      "Guess: Bool[0, 0, 0, 0, 0, 0, 0, 0, 0, 0, 0, 0, 0, 0]\n",
      "O: Bool[0 0 0 0 0 0 0 0 0 1 0 1 1 0; 0 1 0 1 0 1 0 0 0 0 0 0 0 0]\n",
      "Guess: Bool[0, 0, 0, 0, 0, 0, 0, 0, 0, 0, 0, 0, 0, 0]\n",
      "Mult: [0, 0]\n",
      "result_Z: [0]\n",
      "logic synd: Bool[0]\n",
      "Decoded!\n"
     ]
    },
    {
     "name": "stdout",
     "output_type": "stream",
     "text": [
      "Syndrome: Bool[0, 0, 0, 0, 0, 0]\n",
      "Guess: Bool[0, 0, 0, 0, 0, 0, 0, 0, 0, 0, 0, 0, 0, 0]\n",
      "O: Bool[0 0 0 0 0 0 0 0 0 1 0 1 1 0; 0 1 0 1 0 1 0 0 0 0 0 0 0 0]\n",
      "Guess: Bool[0, 0, 0, 0, 0, 0, 0, 0, 0, 0, 0, 0, 0, 0]\n",
      "Mult: [0, 0]\n",
      "result_Z: [0]\n",
      "logic synd: Bool[0]\n",
      "Decoded!\n",
      "Syndrome: Bool[0, 1, 0, 0, 0, 0]\n",
      "Guess: Bool[0, 0, 0, 0, 0, 0, 0, 0, 0, 0, 0, 0, 0, 0]\n",
      "O: Bool[0 0 0 0 0 0 0 0 0 1 0 1 1 0; 0 1 0 1 0 1 0 0 0 0 0 0 0 0]\n",
      "Guess: Bool[0, 0, 0, 0, 0, 0, 0, 0, 0, 0, 0, 0, 0, 0]\n",
      "Mult: [0, 0]\n",
      "result_Z: [0]\n",
      "logic synd: Bool[0]\n",
      "Decoded!\n",
      "Syndrome: Bool[0, 0, 0, 0, 0, 0]\n",
      "Guess: Bool[0, 0, 0, 0, 0, 0, 0, 0, 0, 0, 0, 0, 0, 0]\n",
      "O: Bool[0 0 0 0 0 0 0 0 0 1 0 1 1 0; 0 1 0 1 0 1 0 0 0 0 0 0 0 0]\n",
      "Guess: Bool[0, 0, 0, 0, 0, 0, 0, 0, 0, 0, 0, 0, 0, 0]\n",
      "Mult: [0, 0]\n",
      "result_Z: [0]\n",
      "logic synd: Bool[0]\n",
      "Decoded!\n"
     ]
    },
    {
     "name": "stdout",
     "output_type": "stream",
     "text": [
      "Syndrome: Bool[0, 1, 0, 0, 1, 0]\n",
      "Guess: Bool[0, 0, 0, 0, 0, 0, 0, 0, 1, 0, 0, 0, 0, 0]\n",
      "O: Bool[0 0 0 0 0 0 0 0 0 1 0 1 1 0; 0 1 0 1 0 1 0 0 0 0 0 0 0 0]\n",
      "Guess: Bool[0, 0, 0, 0, 0, 0, 0, 0, 1, 0, 0, 0, 0, 0]\n",
      "Mult: [0, 0]\n",
      "result_Z: [0]\n",
      "logic synd: Bool[1]\n",
      "Syndrome: Bool[0, 0, 0, 0, 0, 0]\n",
      "Guess: Bool[0, 0, 0, 0, 0, 0, 0, 0, 0, 0, 0, 0, 0, 0]\n",
      "O: Bool[0 0 0 0 0 0 0 0 0 1 0 1 1 0; 0 1 0 1 0 1 0 0 0 0 0 0 0 0]\n",
      "Guess: Bool[0, 0, 0, 0, 0, 0, 0, 0, 0, 0, 0, 0, 0, 0]\n",
      "Mult: [0, 0]\n",
      "result_Z: [0]\n",
      "logic synd: Bool[0]\n",
      "Decoded!\n",
      "Syndrome: Bool[0, 0, 0, 0, 0, 0]\n",
      "Guess: Bool[0, 0, 0, 0, 0, 0, 0, 0, 0, 0, 0, 0, 0, 0]\n",
      "O: Bool[0 0 0 0 0 0 0 0 0 1 0 1 1 0; 0 1 0 1 0 1 0 0 0 0 0 0 0 0]\n",
      "Guess: Bool[0, 0, 0, 0, 0, 0, 0, 0, 0, 0, 0, 0, 0, 0]\n",
      "Mult: [0, 0]\n",
      "result_Z: [0]\n",
      "logic synd: Bool[0]\n",
      "Decoded!\n"
     ]
    },
    {
     "name": "stdout",
     "output_type": "stream",
     "text": [
      "Syndrome: Bool[0, 0, 1, 0, 0, 1]\n",
      "Guess: Bool[0, 0, 0, 0, 0, 0, 0, 1, 0, 0, 0, 0, 0, 0]\n",
      "O: Bool[0 0 0 0 0 0 0 0 0 1 0 1 1 0; 0 1 0 1 0 1 0 0 0 0 0 0 0 0]\n",
      "Guess: Bool[0, 0, 0, 0, 0, 0, 0, 1, 0, 0, 0, 0, 0, 0]\n",
      "Mult: [0, 0]\n",
      "result_Z: [0]\n",
      "logic synd: Bool[0]\n",
      "Decoded!\n",
      "Syndrome: Bool[0, 0, 0, 0, 0, 0]\n",
      "Guess: Bool[0, 0, 0, 0, 0, 0, 0, 0, 0, 0, 0, 0, 0, 0]\n",
      "O: Bool[0 0 0 0 0 0 0 0 0 1 0 1 1 0; 0 1 0 1 0 1 0 0 0 0 0 0 0 0]\n",
      "Guess: Bool[0, 0, 0, 0, 0, 0, 0, 0, 0, 0, 0, 0, 0, 0]\n",
      "Mult: [0, 0]\n",
      "result_Z: [0]\n",
      "logic synd: Bool[0]\n",
      "Decoded!\n",
      "Syndrome: Bool[0, 0, 0, 0, 0, 0]\n",
      "Guess: Bool[0, 0, 0, 0, 0, 0, 0, 0, 0, 0, 0, 0, 0, 0]\n",
      "O: Bool[0 0 0 0 0 0 0 0 0 1 0 1 1 0; 0 1 0 1 0 1 0 0 0 0 0 0 0 0]\n",
      "Guess: Bool[0, 0, 0, 0, 0, 0, 0, 0, 0, 0, 0, 0, 0, 0]\n",
      "Mult: [0, 0]\n",
      "result_Z: [0]\n",
      "logic synd: Bool[0]\n",
      "Decoded!"
     ]
    },
    {
     "name": "stdout",
     "output_type": "stream",
     "text": [
      "\n",
      "Syndrome: Bool[0, 0, 0, 1, 0, 0]\n",
      "Guess: Bool[0, 0, 0, 0, 0, 0, 0, 0, 0, 0, 1, 0, 0, 0]\n",
      "O: Bool[0 0 0 0 0 0 0 0 0 1 0 1 1 0; 0 1 0 1 0 1 0 0 0 0 0 0 0 0]\n",
      "Guess: Bool[0, 0, 0, 0, 0, 0, 0, 0, 0, 0, 1, 0, 0, 0]\n",
      "Mult: [0, 0]\n",
      "result_Z: [0]\n",
      "logic synd: Bool[1]\n",
      "Syndrome: Bool[0, 0, 0, 1, 0, 0]\n",
      "Guess: Bool[0, 0, 0, 0, 0, 0, 0, 0, 0, 0, 1, 0, 0, 0]\n",
      "O: Bool[0 0 0 0 0 0 0 0 0 1 0 1 1 0; 0 1 0 1 0 1 0 0 0 0 0 0 0 0]\n",
      "Guess: Bool[0, 0, 0, 0, 0, 0, 0, 0, 0, 0, 1, 0, 0, 0]\n",
      "Mult: [0, 0]\n",
      "result_Z: [0]\n",
      "logic synd: Bool[0]\n",
      "Decoded!\n",
      "Syndrome: Bool[0, 0, 0, 0, 0, 0]\n",
      "Guess: Bool[0, 0, 0, 0, 0, 0, 0, 0, 0, 0, 0, 0, 0, 0]\n",
      "O: Bool[0 0 0 0 0 0 0 0 0 1 0 1 1 0; 0 1 0 1 0 1 0 0 0 0 0 0 0 0]\n",
      "Guess: Bool[0, 0, 0, 0, 0, 0, 0, 0, 0, 0, 0, 0, 0, 0]\n",
      "Mult: [0, 0]\n",
      "result_Z: [0]\n",
      "logic synd: Bool[0]\n",
      "Decoded!"
     ]
    },
    {
     "name": "stdout",
     "output_type": "stream",
     "text": [
      "\n",
      "Syndrome: Bool[0, 0, 0, 0, 0, 0]\n",
      "Guess: Bool[0, 0, 0, 0, 0, 0, 0, 0, 0, 0, 0, 0, 0, 0]\n",
      "O: Bool[0 0 0 0 0 0 0 0 0 1 0 1 1 0; 0 1 0 1 0 1 0 0 0 0 0 0 0 0]\n",
      "Guess: Bool[0, 0, 0, 0, 0, 0, 0, 0, 0, 0, 0, 0, 0, 0]\n",
      "Mult: [0, 0]\n",
      "result_Z: [0]\n",
      "logic synd: Bool[0]\n",
      "Decoded!\n",
      "Syndrome: Bool[0, 0, 0, 0, 1, 0]\n",
      "Guess: Bool[0, 0, 0, 0, 0, 0, 0, 0, 1, 0, 0, 0, 0, 0]\n",
      "O: Bool[0 0 0 0 0 0 0 0 0 1 0 1 1 0; 0 1 0 1 0 1 0 0 0 0 0 0 0 0]\n",
      "Guess: Bool[0, 0, 0, 0, 0, 0, 0, 0, 1, 0, 0, 0, 0, 0]\n",
      "Mult: [0, 0]\n",
      "result_Z: [0]\n",
      "logic synd: Bool[1]\n",
      "Syndrome: Bool[0, 0, 0, 0, 0, 0]\n",
      "Guess: Bool[0, 0, 0, 0, 0, 0, 0, 0, 0, 0, 0, 0, 0, 0]\n",
      "O: Bool[0 0 0 0 0 0 0 0 0 1 0 1 1 0; 0 1 0 1 0 1 0 0 0 0 0 0 0 0]\n",
      "Guess: Bool[0, 0, 0, 0, 0, 0, 0, 0, 0, 0, 0, 0, 0, 0]\n",
      "Mult: [0, 0]\n",
      "result_Z: [0]\n",
      "logic synd: Bool[0]\n",
      "Decoded!"
     ]
    },
    {
     "name": "stdout",
     "output_type": "stream",
     "text": [
      "\n",
      "Syndrome: Bool[0, 0, 0, 0, 0, 0]\n",
      "Guess: Bool[0, 0, 0, 0, 0, 0, 0, 0, 0, 0, 0, 0, 0, 0]\n",
      "O: Bool[0 0 0 0 0 0 0 0 0 1 0 1 1 0; 0 1 0 1 0 1 0 0 0 0 0 0 0 0]\n",
      "Guess: Bool[0, 0, 0, 0, 0, 0, 0, 0, 0, 0, 0, 0, 0, 0]\n",
      "Mult: [0, 0]\n",
      "result_Z: [0]\n",
      "logic synd: Bool[0]\n",
      "Decoded!\n",
      "Syndrome: Bool[0, 0, 0, 1, 1, 0]\n",
      "Guess: Bool[0, 0, 0, 0, 0, 0, 0, 0, 0, 0, 0, 0, 1, 0]\n",
      "O: Bool[0 0 0 0 0 0 0 0 0 1 0 1 1 0; 0 1 0 1 0 1 0 0 0 0 0 0 0 0]\n",
      "Guess: Bool[0, 0, 0, 0, 0, 0, 0, 0, 0, 0, 0, 0, 1, 0]\n",
      "Mult: [1, 0]\n",
      "result_Z: [0]\n",
      "logic synd: Bool[1]\n",
      "Syndrome: Bool[0, 0, 0, 0, 0, 0]\n",
      "Guess: Bool[0, 0, 0, 0, 0, 0, 0, 0, 0, 0, 0, 0, 0, 0]\n",
      "O: Bool[0 0 0 0 0 0 0 0 0 1 0 1 1 0; 0 1 0 1 0 1 0 0 0 0 0 0 0 0]\n",
      "Guess: Bool[0, 0, 0, 0, 0, 0, 0, 0, 0, 0, 0, 0, 0, 0]\n",
      "Mult: [0, 0]\n",
      "result_Z: [0]\n",
      "logic synd: Bool[0]\n",
      "Decoded!\n"
     ]
    },
    {
     "name": "stdout",
     "output_type": "stream",
     "text": [
      "x_error: [0.0, 0.005299999999999971, 0.010099999999999998, 0.016900000000000026, 0.01870000000000005, 0.023299999999999987, 0.03049999999999997, 0.03500000000000003, 0.03820000000000001, 0.04049999999999998, 0.051899999999999946, 0.04959999999999998, 0.05940000000000001, 0.062100000000000044, 0.07189999999999996, 0.07010000000000005, 0.07840000000000003, 0.08409999999999995, 0.08179999999999998, 0.08620000000000005, 0.09630000000000005, 0.09660000000000002, 0.10570000000000002, 0.11509999999999998, 0.10829999999999995, 0.11429999999999996, 0.11499999999999999, 0.12429999999999997, 0.1291, 0.1291, 0.12739999999999996, 0.14149999999999996, 0.1461] z_error: [0.0, 0.0044999999999999485, 0.011299999999999977, 0.013700000000000045, 0.018399999999999972, 0.026599999999999957, 0.028900000000000037, 0.03369999999999995, 0.04049999999999998, 0.04590000000000005, 0.0464, 0.055499999999999994, 0.05679999999999996, 0.06289999999999996, 0.06679999999999997, 0.06869999999999998, 0.07289999999999996, 0.08250000000000002, 0.08440000000000003, 0.08789999999999998, 0.09730000000000005, 0.09830000000000005, 0.10009999999999997, 0.10970000000000002, 0.11499999999999999, 0.11880000000000002, 0.11660000000000004, 0.1269, 0.12819999999999998, 0.13460000000000005, 0.13290000000000002, 0.13849999999999996, 0.1421]\n"
     ]
    },
    {
     "data": {
      "text/plain": [
       "([0.0, 0.005299999999999971, 0.010099999999999998, 0.016900000000000026, 0.01870000000000005, 0.023299999999999987, 0.03049999999999997, 0.03500000000000003, 0.03820000000000001, 0.04049999999999998  …  0.11509999999999998, 0.10829999999999995, 0.11429999999999996, 0.11499999999999999, 0.12429999999999997, 0.1291, 0.1291, 0.12739999999999996, 0.14149999999999996, 0.1461], [0.0, 0.0044999999999999485, 0.011299999999999977, 0.013700000000000045, 0.018399999999999972, 0.026599999999999957, 0.028900000000000037, 0.03369999999999995, 0.04049999999999998, 0.04590000000000005  …  0.10970000000000002, 0.11499999999999999, 0.11880000000000002, 0.11660000000000004, 0.1269, 0.12819999999999998, 0.13460000000000005, 0.13290000000000002, 0.13849999999999996, 0.1421])"
      ]
     },
     "metadata": {},
     "output_type": "display_data"
    }
   ],
   "source": [
    "f_x_Steane, f_z_Steane = pf_encoding_plot(Steane7())"
   ]
  },
  {
   "cell_type": "code",
   "execution_count": 23,
   "metadata": {},
   "outputs": [],
   "source": [
    "steane7_pc = parity_checks(Steane7())\n",
    "steane7_scirc, _ = naive_syndrome_circuit(Steane7());\n",
    "steane7_ecirc = naive_encoding_circuit(Steane7());"
   ]
  },
  {
   "cell_type": "code",
   "execution_count": 60,
   "metadata": {},
   "outputs": [
    {
     "name": "stdout",
     "output_type": "stream",
     "text": [
      "Syndrome: Bool[0, 0, 0, 0, 0, 0]\n",
      "Guess: Bool[0, 0, 0, 0, 0, 0, 0, 0, 0, 0, 0, 0, 0, 0]\n",
      "O: Bool[0 0 0 0 0 0 0 0 0 1 0 1 1 0; 0 1 0 1 0 1 0 0 0 0 0 0 0 0]\n",
      "Guess: Bool[0, 0, 0, 0, 0, 0, 0, 0, 0, 0, 0, 0, 0, 0]\n",
      "Mult: [0, 0]\n",
      "result_Z: [0]\n",
      "logic synd: Bool[0]\n",
      "Decoded!\n"
     ]
    },
    {
     "data": {
      "text/plain": [
       "(0.037699999999999956, 0.03849999999999998)"
      ]
     },
     "metadata": {},
     "output_type": "display_data"
    }
   ],
   "source": [
    "evaluate_code_decoder_w_ecirc_pf(steane7_pc, steane7_ecirc, steane7_scirc, 0.02)"
   ]
  },
  {
   "cell_type": "code",
   "execution_count": 73,
   "metadata": {},
   "outputs": [],
   "source": [
    "sb1412 = vcat(sb14[1:6], sb14[8:13])\n",
    "sb1412_scirc, _ = naive_syndrome_circuit(sb1412)\n",
    "sb1412_ecirc = naive_encoding_circuit(sb1412);"
   ]
  },
  {
   "cell_type": "code",
   "execution_count": 126,
   "metadata": {},
   "outputs": [
    {
     "name": "stdout",
     "output_type": "stream",
     "text": [
      "Syndrome: Bool[1, 1, 1, 0, 0, 1, 1, 1, 0, 1, 0, 1]\n",
      "Guess: Bool[0, 0, 0, 0, 0, 0, 0, 0, 0, 0, 0, 0, 0, 0, 0, 0, 0, 0, 0, 0, 0, 0, 0, 0, 0, 0, 0, 0]\n",
      "O: Bool[0 0 0 0 0 0 0 0 0 0 0 0 0 0 0 0 0 0 0 0 0 1 0 0 1 1 1 0; 0 0 0 0 0 0 0 0 0 0 0 0 0 0 0 0 0 0 0 1 0 0 0 0 0 1 0 1; 1 1 1 0 0 0 0 0 1 0 0 0 1 0 0 0 0 0 0 0 0 0 0 0 0 0 0 0; 1 1 0 1 0 0 0 0 1 1 0 0 0 1 0 0 0 0 0 0 0 0 0 0 0 0 0 0]\n",
      "Guess: Bool[0, 0, 0, 0, 0, 0, 0, 0, 0, 0, 0, 0, 0, 0, 0, 0, 0, 0, 0, 0, 0, 0, 0, 0, 0, 0, 0, 0]\n",
      "Mult: [0, 0, 0, 0]\n",
      "result_Z: [0, 0]\n",
      "logic synd: Bool[1, 0]"
     ]
    },
    {
     "name": "stdout",
     "output_type": "stream",
     "text": [
      "\n"
     ]
    },
    {
     "data": {
      "text/plain": [
       "(0.5207999999999999, 0.6041000000000001)"
      ]
     },
     "metadata": {},
     "output_type": "display_data"
    }
   ],
   "source": [
    "evaluate_code_decoder_w_ecirc_pf(sb1412, sb1412_ecirc, sb1412_scirc, 0.2)"
   ]
  },
  {
   "cell_type": "code",
   "execution_count": 10,
   "metadata": {},
   "outputs": [
    {
     "data": {
      "text/plain": [
       "1×4 Matrix{Int64}:\n",
       " 4  5  6  7"
      ]
     },
     "metadata": {},
     "output_type": "display_data"
    }
   ],
   "source": [
    "A = [0 1 2 3]\n",
    "B = [4 5 6 7]"
   ]
  },
  {
   "cell_type": "code",
   "execution_count": 11,
   "metadata": {},
   "outputs": [
    {
     "data": {
      "text/plain": [
       "1×8 Matrix{Int64}:\n",
       " 0  1  2  3  4  5  6  7"
      ]
     },
     "metadata": {},
     "output_type": "display_data"
    }
   ],
   "source": [
    "hcat(A, B)"
   ]
  },
  {
   "cell_type": "code",
   "execution_count": 12,
   "metadata": {},
   "outputs": [
    {
     "data": {
      "text/plain": [
       "1×7 Matrix{Bool}:\n",
       " 0  0  0  0  0  1  0"
      ]
     },
     "metadata": {},
     "output_type": "display_data"
    }
   ],
   "source": [
    "guess = [0 0 0 0 0 1 0]''\n",
    "convert(Matrix{Bool}, guess)\n",
    "# guess = Bool.(guess)"
   ]
  },
  {
   "cell_type": "code",
   "execution_count": 13,
   "metadata": {},
   "outputs": [
    {
     "data": {
      "text/plain": [
       "1×7 Matrix{Bool}:\n",
       " 0  0  0  0  0  0  0"
      ]
     },
     "metadata": {},
     "output_type": "display_data"
    }
   ],
   "source": [
    "f = fill(0, 7)'\n",
    "convert(Matrix{Bool}, f)"
   ]
  },
  {
   "cell_type": "code",
   "execution_count": 14,
   "metadata": {},
   "outputs": [
    {
     "name": "stdout",
     "output_type": "stream",
     "text": [
      "Bool[0 0 0 0 0 1 0]\n",
      "Bool[0 0 0 0 0 0 0]\n"
     ]
    },
    {
     "data": {
      "text/plain": [
       "+ _____X_"
      ]
     },
     "metadata": {},
     "output_type": "display_data"
    }
   ],
   "source": [
    "# guess = convert(Vector{Bool}, guess)\n",
    "x_mat = convert(Matrix{Bool}, guess'')\n",
    "z_mat = convert(Matrix{Bool}, fill(0, 7)')\n",
    "println(x_mat)\n",
    "println(z_mat)\n",
    "Stabilizer(fill(0x0, 1), convert(Matrix{Bool}, guess''), convert(Matrix{Bool}, fill(0, 7)'))"
   ]
  },
  {
   "cell_type": "code",
   "execution_count": 15,
   "metadata": {},
   "outputs": [
    {
     "name": "stdout",
     "output_type": "stream",
     "text": [
      "Vector{Float64}"
     ]
    },
    {
     "data": {
      "text/plain": [
       "1×7 Matrix{Bool}:\n",
       " 0  0  0  0  0  0  0"
      ]
     },
     "metadata": {},
     "output_type": "display_data"
    }
   ],
   "source": [
    "float_fill = fill(0.0, 7)\n",
    "print(typeof(float_fill))\n",
    "convert(Matrix{Bool}, float_fill')"
   ]
  },
  {
   "cell_type": "code",
   "execution_count": 16,
   "metadata": {},
   "outputs": [
    {
     "data": {
      "text/plain": [
       "14-element Vector{Bool}:\n",
       " 0\n",
       " 0\n",
       " 0\n",
       " 0\n",
       " 0\n",
       " 0\n",
       " 0\n",
       " 0\n",
       " 0\n",
       " 0\n",
       " 0\n",
       " 0\n",
       " 0\n",
       " 0"
      ]
     },
     "metadata": {},
     "output_type": "display_data"
    }
   ],
   "source": [
    "convert(Vector{Bool}, vcat([0, 0, 0, 0, 0, 0, 0], [0, 0, 0, 0, 0, 0, 0]))"
   ]
  }
 ],
 "metadata": {
  "kernelspec": {
   "display_name": "Julia 1.9.3",
   "language": "julia",
   "name": "julia-1.9"
  },
  "language_info": {
   "file_extension": ".jl",
   "mimetype": "application/julia",
   "name": "julia",
   "version": "1.9.3"
  },
  "orig_nbformat": 4
 },
 "nbformat": 4,
 "nbformat_minor": 2
}
