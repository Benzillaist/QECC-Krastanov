{
 "cells": [
  {
   "cell_type": "code",
   "execution_count": 15,
   "metadata": {},
   "outputs": [],
   "source": [
    "import numpy as np\n",
    "import matplotlib.pyplot as plt\n",
    "from scipy.linalg import circulant\n",
    "# import CSS_builder\n"
   ]
  },
  {
   "cell_type": "code",
   "execution_count": 154,
   "metadata": {},
   "outputs": [],
   "source": [
    "# Setup\n",
    "B_N = 14\n",
    "B_M = 7\n",
    "B_n = 7\n",
    "B_indices = np.array([0, 1, 3])\n",
    "\n",
    "# Matrix setup\n",
    "B_c_start = np.zeros(B_n, dtype=int)\n",
    "B_c_start[B_indices] += 1"
   ]
  },
  {
   "cell_type": "code",
   "execution_count": 155,
   "metadata": {},
   "outputs": [
    {
     "name": "stdout",
     "output_type": "stream",
     "text": [
      "[[1 1 0 1 0 0 0]\n",
      " [0 1 1 0 1 0 0]\n",
      " [0 0 1 1 0 1 0]\n",
      " [0 0 0 1 1 0 1]\n",
      " [1 0 0 0 1 1 0]\n",
      " [0 1 0 0 0 1 1]\n",
      " [1 0 1 0 0 0 1]]\n"
     ]
    }
   ],
   "source": [
    "# Construct the cyclic perfect difference set matrices\n",
    "\n",
    "# This is actually the transpose of what I wanted\n",
    "B_CirculantT = np.array(circulant(B_c_start))\n",
    "print(B_CirculantT.T)"
   ]
  },
  {
   "cell_type": "code",
   "execution_count": 156,
   "metadata": {},
   "outputs": [
    {
     "name": "stdout",
     "output_type": "stream",
     "text": [
      "[[1 1 0 1 0 0 0 1 0 0 0 1 0 1]\n",
      " [0 1 1 0 1 0 0 1 1 0 0 0 1 0]\n",
      " [0 0 1 1 0 1 0 0 1 1 0 0 0 1]\n",
      " [0 0 0 1 1 0 1 1 0 1 1 0 0 0]\n",
      " [1 0 0 0 1 1 0 0 1 0 1 1 0 0]\n",
      " [0 1 0 0 0 1 1 0 0 1 0 1 1 0]\n",
      " [1 0 1 0 0 0 1 0 0 0 1 0 1 1]]\n"
     ]
    }
   ],
   "source": [
    "# Add cyclic perfect difference set matrices together\n",
    "B_Comp = np.zeros((B_n, 2*B_n), dtype=int)\n",
    "B_Comp[:,B_n:2*B_n] = B_CirculantT\n",
    "B_Comp[:,0:B_n] = B_CirculantT.T\n",
    "print(B_Comp)"
   ]
  },
  {
   "cell_type": "code",
   "execution_count": 157,
   "metadata": {},
   "outputs": [
    {
     "name": "stdout",
     "output_type": "stream",
     "text": [
      "[[1 1 0 1 0 0 0 1 0 0 0 1 0 1]\n",
      " [0 1 1 0 1 0 0 1 1 0 0 0 1 0]\n",
      " [0 0 1 1 0 1 0 0 1 1 0 0 0 1]\n",
      " [0 0 0 1 1 0 1 1 0 1 1 0 0 0]\n",
      " [1 0 0 0 1 1 0 0 1 0 1 1 0 0]\n",
      " [0 1 0 0 0 1 1 0 0 1 0 1 1 0]\n",
      " [1 0 1 0 0 0 1 0 0 0 1 0 1 1]]\n"
     ]
    }
   ],
   "source": [
    "# Create H_0 to be used to make the A = ( H_0 |  0  ) matrix\n",
    "#                                       (  0  | H_0 )\n",
    "B_H_0 = B_Comp[0:B_M,0:B_N]\n",
    "print(B_H_0)"
   ]
  },
  {
   "cell_type": "code",
   "execution_count": 158,
   "metadata": {},
   "outputs": [
    {
     "name": "stdout",
     "output_type": "stream",
     "text": [
      "[[1 1 0 1 0 0 0 1 0 0 0 1 0 1 0 0 0 0 0 0 0 0 0 0 0 0 0 0]\n",
      " [0 1 1 0 1 0 0 1 1 0 0 0 1 0 0 0 0 0 0 0 0 0 0 0 0 0 0 0]\n",
      " [0 0 1 1 0 1 0 0 1 1 0 0 0 1 0 0 0 0 0 0 0 0 0 0 0 0 0 0]\n",
      " [0 0 0 1 1 0 1 1 0 1 1 0 0 0 0 0 0 0 0 0 0 0 0 0 0 0 0 0]\n",
      " [1 0 0 0 1 1 0 0 1 0 1 1 0 0 0 0 0 0 0 0 0 0 0 0 0 0 0 0]\n",
      " [0 1 0 0 0 1 1 0 0 1 0 1 1 0 0 0 0 0 0 0 0 0 0 0 0 0 0 0]\n",
      " [1 0 1 0 0 0 1 0 0 0 1 0 1 1 0 0 0 0 0 0 0 0 0 0 0 0 0 0]\n",
      " [0 0 0 0 0 0 0 0 0 0 0 0 0 0 1 1 0 1 0 0 0 1 0 0 0 1 0 1]\n",
      " [0 0 0 0 0 0 0 0 0 0 0 0 0 0 0 1 1 0 1 0 0 1 1 0 0 0 1 0]\n",
      " [0 0 0 0 0 0 0 0 0 0 0 0 0 0 0 0 1 1 0 1 0 0 1 1 0 0 0 1]\n",
      " [0 0 0 0 0 0 0 0 0 0 0 0 0 0 0 0 0 1 1 0 1 1 0 1 1 0 0 0]\n",
      " [0 0 0 0 0 0 0 0 0 0 0 0 0 0 1 0 0 0 1 1 0 0 1 0 1 1 0 0]\n",
      " [0 0 0 0 0 0 0 0 0 0 0 0 0 0 0 1 0 0 0 1 1 0 0 1 0 1 1 0]\n",
      " [0 0 0 0 0 0 0 0 0 0 0 0 0 0 1 0 1 0 0 0 1 0 0 0 1 0 1 1]]\n"
     ]
    }
   ],
   "source": [
    "# Construct the parity check matrix\n",
    "\n",
    "B_PCM = np.zeros((2*B_M, 2*B_N), dtype=int)\n",
    "B_PCM[0:B_M, 0:B_N] = B_H_0\n",
    "B_PCM[B_M:2*B_M, B_N:2*B_N] = B_H_0\n",
    "\n",
    "print(B_PCM)"
   ]
  },
  {
   "cell_type": "code",
   "execution_count": 159,
   "metadata": {
    "scrolled": false
   },
   "outputs": [],
   "source": [
    "for i in range(2*B_n):\n",
    "    for j in range(B_n - (i%B_n) - 1):\n",
    "        if np.count_nonzero(np.bitwise_and(B_PCM[i], B_PCM[i + j + 1])) != 2:\n",
    "            print(\"Error:\")\n",
    "            print(B_PCM[i])\n",
    "            print(B_PCM[i + j + 1])"
   ]
  },
  {
   "cell_type": "code",
   "execution_count": 160,
   "metadata": {},
   "outputs": [
    {
     "ename": "TypeError",
     "evalue": "'<' not supported between instances of 'list' and 'int'",
     "output_type": "error",
     "traceback": [
      "\u001b[1;31m---------------------------------------------------------------------------\u001b[0m",
      "\u001b[1;31mTypeError\u001b[0m                                 Traceback (most recent call last)",
      "\u001b[1;32mc:\\Users\\benku\\Desktop\\College documents\\Krastanov Independent Study\\ecc_playground.ipynb Cell 8\u001b[0m in \u001b[0;36m<cell line: 1>\u001b[1;34m()\u001b[0m\n\u001b[1;32m----> <a href='vscode-notebook-cell:/c%3A/Users/benku/Desktop/College%20documents/Krastanov%20Independent%20Study/ecc_playground.ipynb#X13sZmlsZQ%3D%3D?line=0'>1</a>\u001b[0m B_start \u001b[39m=\u001b[39m B_starter([\u001b[39m0\u001b[39;49m, \u001b[39m1\u001b[39;49m, \u001b[39m3\u001b[39;49m], \u001b[39m7\u001b[39;49m)\n\u001b[0;32m      <a href='vscode-notebook-cell:/c%3A/Users/benku/Desktop/College%20documents/Krastanov%20Independent%20Study/ecc_playground.ipynb#X13sZmlsZQ%3D%3D?line=1'>2</a>\u001b[0m B_code \u001b[39m=\u001b[39m CSS(B\u001b[39m.\u001b[39mgetH())\n\u001b[0;32m      <a href='vscode-notebook-cell:/c%3A/Users/benku/Desktop/College%20documents/Krastanov%20Independent%20Study/ecc_playground.ipynb#X13sZmlsZQ%3D%3D?line=2'>3</a>\u001b[0m \u001b[39mprint\u001b[39m(B_code\u001b[39m.\u001b[39mgetPCM())\n",
      "File \u001b[1;32mc:\\Users\\benku\\Desktop\\College documents\\Krastanov Independent Study\\util\\CSS_builder.py:38\u001b[0m, in \u001b[0;36mB_starter.__init__\u001b[1;34m(self, c_indices, n)\u001b[0m\n\u001b[0;32m     37\u001b[0m \u001b[39mdef\u001b[39;00m \u001b[39m__init__\u001b[39m(\u001b[39mself\u001b[39m, c_indices, n):\n\u001b[1;32m---> 38\u001b[0m     \u001b[39mif\u001b[39;00m \u001b[39mnot\u001b[39;00m (c_indices \u001b[39m<\u001b[39;49m n)\u001b[39m.\u001b[39mall():\n\u001b[0;32m     39\u001b[0m         \u001b[39mprint\u001b[39m(\u001b[39m\"\u001b[39m\u001b[39mError, a index is greater or equal to the length of the list\u001b[39m\u001b[39m\"\u001b[39m)\n\u001b[0;32m     40\u001b[0m     \u001b[39melse\u001b[39;00m:\n",
      "\u001b[1;31mTypeError\u001b[0m: '<' not supported between instances of 'list' and 'int'"
     ]
    }
   ],
   "source": [
    "B_start = B_starter([0, 1, 3], 7)\n",
    "B_code = CSS(B.getH())\n",
    "print(B_code.getPCM())\n",
    "B_code.checkTP()"
   ]
  },
  {
   "cell_type": "code",
   "execution_count": 22,
   "metadata": {},
   "outputs": [],
   "source": [
    "x = np.arange(0.000, 0.20001, 0.0025)\n",
    "y_tab = [0.0, 9.999999999998899e-5, 0.0008000000000000229, 0.0012999999999999678, 0.0022999999999999687, 0.0031999999999999806, 0.0049000000000000155, 0.005800000000000027, 0.007099999999999995, 0.009299999999999975, 0.010299999999999976, 0.012499999999999956, 0.017299999999999982, 0.016000000000000014, 0.018199999999999994, 0.02410000000000001, 0.026499999999999968, 0.028699999999999948, 0.03259999999999996, 0.03590000000000004, 0.04290000000000005, 0.04400000000000004, 0.04690000000000005, 0.051000000000000045, 0.05469999999999997, 0.05820000000000003, 0.06120000000000003, 0.06769999999999998, 0.07620000000000005, 0.07550000000000001, 0.07689999999999997, 0.0847, 0.08979999999999999]\n",
    "y_kri = [0.0, 0.0043999999999999595, 0.00990000000000002, 0.01429999999999998, 0.019299999999999984, 0.026100000000000012, 0.02959999999999996, 0.033299999999999996, 0.03839999999999999, 0.04569999999999996, 0.049699999999999966, 0.0494, 0.05800000000000005, 0.06889999999999996, 0.06869999999999998, 0.07420000000000004, 0.07469999999999999, 0.0796, 0.08620000000000005, 0.08950000000000002, 0.09319999999999995, 0.09599999999999997, 0.0978, 0.11029999999999995, 0.1109, 0.11240000000000006, 0.12150000000000005, 0.124, 0.12739999999999996, 0.12990000000000002, 0.136, 0.13849999999999996, 0.13990000000000002]\n",
    "\n",
    "y_tab2 = [0.0, 0.0, 0.0008000000000000229, 0.0010999999999999899, 0.0019000000000000128, 0.0030000000000000027, 0.0050000000000000044, 0.0047000000000000375, 0.007299999999999973, 0.008900000000000019, 0.010499999999999954, 0.013000000000000012, 0.01319999999999999, 0.015900000000000025, 0.019199999999999995, 0.021599999999999953, 0.028299999999999992, 0.028699999999999948, 0.03149999999999997, 0.032399999999999984, 0.035599999999999965, 0.0383, 0.04920000000000002, 0.0514, 0.05230000000000001, 0.05840000000000001, 0.06710000000000005, 0.06910000000000005, 0.07640000000000002, 0.07579999999999998, 0.08109999999999995, 0.08550000000000002, 0.09460000000000002, 0.09799999999999998, 0.10240000000000005, 0.10550000000000004, 0.10599999999999998, 0.118, 0.12350000000000005, 0.12329999999999997, 0.12770000000000004, 0.1362, 0.15090000000000003, 0.15259999999999996, 0.15180000000000005, 0.1562, 0.1634, 0.1735, 0.1763, 0.18869999999999998, 0.19140000000000001, 0.19420000000000004, 0.19510000000000005, 0.2148, 0.20540000000000003, 0.21609999999999996, 0.2237, 0.23150000000000004, 0.24329999999999996, 0.24539999999999995, 0.25129999999999997, 0.2539, 0.25980000000000003, 0.27480000000000004, 0.2731, 0.27690000000000003, 0.2873, 0.29290000000000005, 0.30820000000000003, 0.3053, 0.3124, 0.3133, 0.3288, 0.32620000000000005, 0.33609999999999995, 0.33630000000000004, 0.35629999999999995, 0.3468, 0.36119999999999997, 0.3741, 0.36650000000000005]\n",
    "y_kri2 = [0.0, 0.006299999999999972, 0.008700000000000041, 0.014900000000000024, 0.019299999999999984, 0.021399999999999975, 0.02980000000000005, 0.03520000000000001, 0.038799999999999946, 0.04159999999999997, 0.050899999999999945, 0.05459999999999998, 0.05920000000000003, 0.0655, 0.0695, 0.07350000000000001, 0.07830000000000004, 0.07930000000000004, 0.08199999999999996, 0.09299999999999997, 0.09060000000000001, 0.09589999999999999, 0.10540000000000005, 0.1069, 0.11099999999999999, 0.11319999999999997, 0.12019999999999997, 0.12260000000000004, 0.12470000000000003, 0.12819999999999998, 0.13980000000000004, 0.13870000000000005, 0.13549999999999995, 0.14129999999999998, 0.14470000000000005, 0.1592, 0.15800000000000003, 0.16690000000000005, 0.16369999999999996, 0.1694, 0.18100000000000005, 0.17379999999999995, 0.1744, 0.18689999999999996, 0.19030000000000002, 0.1894, 0.1995, 0.20509999999999995, 0.19910000000000005, 0.20640000000000003, 0.21740000000000004, 0.20879999999999999, 0.21340000000000003, 0.21809999999999996, 0.2217, 0.23029999999999995, 0.23740000000000006, 0.24029999999999996, 0.2359, 0.2378, 0.24080000000000001, 0.2409, 0.2522, 0.24829999999999997, 0.25870000000000004, 0.26539999999999997, 0.2562, 0.26559999999999995, 0.2691, 0.2822, 0.2791, 0.2694, 0.2762, 0.2803, 0.2773, 0.2841, 0.28869999999999996, 0.2924, 0.2893, 0.30579999999999996, 0.30189999999999995]"
   ]
  },
  {
   "cell_type": "code",
   "execution_count": 23,
   "metadata": {},
   "outputs": [
    {
     "ename": "ValueError",
     "evalue": "x and y must have same first dimension, but have shapes (81,) and (33,)",
     "output_type": "error",
     "traceback": [
      "\u001b[1;31m---------------------------------------------------------------------------\u001b[0m",
      "\u001b[1;31mValueError\u001b[0m                                Traceback (most recent call last)",
      "\u001b[1;32mc:\\Users\\benku\\Desktop\\College documents\\Krastanov Independent Study\\QECC-Krastanov\\ecc_playground.ipynb Cell 10\u001b[0m line \u001b[0;36m<cell line: 1>\u001b[1;34m()\u001b[0m\n\u001b[1;32m----> <a href='vscode-notebook-cell:/c%3A/Users/benku/Desktop/College%20documents/Krastanov%20Independent%20Study/QECC-Krastanov/ecc_playground.ipynb#X12sZmlsZQ%3D%3D?line=0'>1</a>\u001b[0m plt\u001b[39m.\u001b[39;49mplot(x, y_tab, label\u001b[39m=\u001b[39;49m\u001b[39m\"\u001b[39;49m\u001b[39mDecoder table\u001b[39;49m\u001b[39m\"\u001b[39;49m)\n\u001b[0;32m      <a href='vscode-notebook-cell:/c%3A/Users/benku/Desktop/College%20documents/Krastanov%20Independent%20Study/QECC-Krastanov/ecc_playground.ipynb#X12sZmlsZQ%3D%3D?line=1'>2</a>\u001b[0m plt\u001b[39m.\u001b[39mplot(x, y_kri, label\u001b[39m=\u001b[39m\u001b[39m\"\u001b[39m\u001b[39mKrishna\u001b[39m\u001b[39m'\u001b[39m\u001b[39ms decoder\u001b[39m\u001b[39m\"\u001b[39m)\n\u001b[0;32m      <a href='vscode-notebook-cell:/c%3A/Users/benku/Desktop/College%20documents/Krastanov%20Independent%20Study/QECC-Krastanov/ecc_playground.ipynb#X12sZmlsZQ%3D%3D?line=2'>3</a>\u001b[0m plt\u001b[39m.\u001b[39mplot(x, x, label\u001b[39m=\u001b[39m\u001b[39m\"\u001b[39m\u001b[39mBit error = logical error\u001b[39m\u001b[39m\"\u001b[39m)\n",
      "File \u001b[1;32m~\\AppData\\Local\\Packages\\PythonSoftwareFoundation.Python.3.10_qbz5n2kfra8p0\\LocalCache\\local-packages\\Python310\\site-packages\\matplotlib\\pyplot.py:2757\u001b[0m, in \u001b[0;36mplot\u001b[1;34m(scalex, scaley, data, *args, **kwargs)\u001b[0m\n\u001b[0;32m   2755\u001b[0m \u001b[39m@_copy_docstring_and_deprecators\u001b[39m(Axes\u001b[39m.\u001b[39mplot)\n\u001b[0;32m   2756\u001b[0m \u001b[39mdef\u001b[39;00m \u001b[39mplot\u001b[39m(\u001b[39m*\u001b[39margs, scalex\u001b[39m=\u001b[39m\u001b[39mTrue\u001b[39;00m, scaley\u001b[39m=\u001b[39m\u001b[39mTrue\u001b[39;00m, data\u001b[39m=\u001b[39m\u001b[39mNone\u001b[39;00m, \u001b[39m*\u001b[39m\u001b[39m*\u001b[39mkwargs):\n\u001b[1;32m-> 2757\u001b[0m     \u001b[39mreturn\u001b[39;00m gca()\u001b[39m.\u001b[39mplot(\n\u001b[0;32m   2758\u001b[0m         \u001b[39m*\u001b[39margs, scalex\u001b[39m=\u001b[39mscalex, scaley\u001b[39m=\u001b[39mscaley,\n\u001b[0;32m   2759\u001b[0m         \u001b[39m*\u001b[39m\u001b[39m*\u001b[39m({\u001b[39m\"\u001b[39m\u001b[39mdata\u001b[39m\u001b[39m\"\u001b[39m: data} \u001b[39mif\u001b[39;00m data \u001b[39mis\u001b[39;00m \u001b[39mnot\u001b[39;00m \u001b[39mNone\u001b[39;00m \u001b[39melse\u001b[39;00m {}), \u001b[39m*\u001b[39m\u001b[39m*\u001b[39mkwargs)\n",
      "File \u001b[1;32m~\\AppData\\Local\\Packages\\PythonSoftwareFoundation.Python.3.10_qbz5n2kfra8p0\\LocalCache\\local-packages\\Python310\\site-packages\\matplotlib\\axes\\_axes.py:1632\u001b[0m, in \u001b[0;36mAxes.plot\u001b[1;34m(self, scalex, scaley, data, *args, **kwargs)\u001b[0m\n\u001b[0;32m   1390\u001b[0m \u001b[39m\"\"\"\u001b[39;00m\n\u001b[0;32m   1391\u001b[0m \u001b[39mPlot y versus x as lines and/or markers.\u001b[39;00m\n\u001b[0;32m   1392\u001b[0m \n\u001b[1;32m   (...)\u001b[0m\n\u001b[0;32m   1629\u001b[0m \u001b[39m(``'green'``) or hex strings (``'#008000'``).\u001b[39;00m\n\u001b[0;32m   1630\u001b[0m \u001b[39m\"\"\"\u001b[39;00m\n\u001b[0;32m   1631\u001b[0m kwargs \u001b[39m=\u001b[39m cbook\u001b[39m.\u001b[39mnormalize_kwargs(kwargs, mlines\u001b[39m.\u001b[39mLine2D)\n\u001b[1;32m-> 1632\u001b[0m lines \u001b[39m=\u001b[39m [\u001b[39m*\u001b[39m\u001b[39mself\u001b[39m\u001b[39m.\u001b[39m_get_lines(\u001b[39m*\u001b[39margs, data\u001b[39m=\u001b[39mdata, \u001b[39m*\u001b[39m\u001b[39m*\u001b[39mkwargs)]\n\u001b[0;32m   1633\u001b[0m \u001b[39mfor\u001b[39;00m line \u001b[39min\u001b[39;00m lines:\n\u001b[0;32m   1634\u001b[0m     \u001b[39mself\u001b[39m\u001b[39m.\u001b[39madd_line(line)\n",
      "File \u001b[1;32m~\\AppData\\Local\\Packages\\PythonSoftwareFoundation.Python.3.10_qbz5n2kfra8p0\\LocalCache\\local-packages\\Python310\\site-packages\\matplotlib\\axes\\_base.py:312\u001b[0m, in \u001b[0;36m_process_plot_var_args.__call__\u001b[1;34m(self, data, *args, **kwargs)\u001b[0m\n\u001b[0;32m    310\u001b[0m     this \u001b[39m+\u001b[39m\u001b[39m=\u001b[39m args[\u001b[39m0\u001b[39m],\n\u001b[0;32m    311\u001b[0m     args \u001b[39m=\u001b[39m args[\u001b[39m1\u001b[39m:]\n\u001b[1;32m--> 312\u001b[0m \u001b[39myield from\u001b[39;00m \u001b[39mself\u001b[39;49m\u001b[39m.\u001b[39;49m_plot_args(this, kwargs)\n",
      "File \u001b[1;32m~\\AppData\\Local\\Packages\\PythonSoftwareFoundation.Python.3.10_qbz5n2kfra8p0\\LocalCache\\local-packages\\Python310\\site-packages\\matplotlib\\axes\\_base.py:498\u001b[0m, in \u001b[0;36m_process_plot_var_args._plot_args\u001b[1;34m(self, tup, kwargs, return_kwargs)\u001b[0m\n\u001b[0;32m    495\u001b[0m     \u001b[39mself\u001b[39m\u001b[39m.\u001b[39maxes\u001b[39m.\u001b[39myaxis\u001b[39m.\u001b[39mupdate_units(y)\n\u001b[0;32m    497\u001b[0m \u001b[39mif\u001b[39;00m x\u001b[39m.\u001b[39mshape[\u001b[39m0\u001b[39m] \u001b[39m!=\u001b[39m y\u001b[39m.\u001b[39mshape[\u001b[39m0\u001b[39m]:\n\u001b[1;32m--> 498\u001b[0m     \u001b[39mraise\u001b[39;00m \u001b[39mValueError\u001b[39;00m(\u001b[39mf\u001b[39m\u001b[39m\"\u001b[39m\u001b[39mx and y must have same first dimension, but \u001b[39m\u001b[39m\"\u001b[39m\n\u001b[0;32m    499\u001b[0m                      \u001b[39mf\u001b[39m\u001b[39m\"\u001b[39m\u001b[39mhave shapes \u001b[39m\u001b[39m{\u001b[39;00mx\u001b[39m.\u001b[39mshape\u001b[39m}\u001b[39;00m\u001b[39m and \u001b[39m\u001b[39m{\u001b[39;00my\u001b[39m.\u001b[39mshape\u001b[39m}\u001b[39;00m\u001b[39m\"\u001b[39m)\n\u001b[0;32m    500\u001b[0m \u001b[39mif\u001b[39;00m x\u001b[39m.\u001b[39mndim \u001b[39m>\u001b[39m \u001b[39m2\u001b[39m \u001b[39mor\u001b[39;00m y\u001b[39m.\u001b[39mndim \u001b[39m>\u001b[39m \u001b[39m2\u001b[39m:\n\u001b[0;32m    501\u001b[0m     \u001b[39mraise\u001b[39;00m \u001b[39mValueError\u001b[39;00m(\u001b[39mf\u001b[39m\u001b[39m\"\u001b[39m\u001b[39mx and y can be no greater than 2D, but have \u001b[39m\u001b[39m\"\u001b[39m\n\u001b[0;32m    502\u001b[0m                      \u001b[39mf\u001b[39m\u001b[39m\"\u001b[39m\u001b[39mshapes \u001b[39m\u001b[39m{\u001b[39;00mx\u001b[39m.\u001b[39mshape\u001b[39m}\u001b[39;00m\u001b[39m and \u001b[39m\u001b[39m{\u001b[39;00my\u001b[39m.\u001b[39mshape\u001b[39m}\u001b[39;00m\u001b[39m\"\u001b[39m)\n",
      "\u001b[1;31mValueError\u001b[0m: x and y must have same first dimension, but have shapes (81,) and (33,)"
     ]
    },
    {
     "data": {
      "image/png": "[encoded data removed]",
      "text/plain": [
       "<Figure size 432x288 with 1 Axes>"
      ]
     },
     "metadata": {
      "needs_background": "light"
     },
     "output_type": "display_data"
    }
   ],
   "source": [
    "plt.plot(x, y_tab2, label=\"Decoder table\")\n",
    "plt.plot(x, y_kri2, label=\"Krishna's decoder\")\n",
    "plt.plot(x, x, label=\"Bit error = logical error\")\n",
    "plt.legend()\n",
    "plt.show()"
   ]
  }
 ],
 "metadata": {
  "kernelspec": {
   "display_name": "Python 3 (ipykernel)",
   "language": "python",
   "name": "python3"
  },
  "language_info": {
   "codemirror_mode": {
    "name": "ipython",
    "version": 3
   },
   "file_extension": ".py",
   "mimetype": "text/x-python",
   "name": "python",
   "nbconvert_exporter": "python",
   "pygments_lexer": "ipython3",
   "version": "3.10.11"
  }
 },
 "nbformat": 4,
 "nbformat_minor": 2
}
