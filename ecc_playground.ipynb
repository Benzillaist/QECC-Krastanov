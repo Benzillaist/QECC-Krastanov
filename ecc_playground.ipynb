{
 "cells": [
  {
   "cell_type": "code",
   "execution_count": 4,
   "metadata": {},
   "outputs": [
    {
     "ename": "ModuleNotFoundError",
     "evalue": "No module named 'CSS_builder'",
     "output_type": "error",
     "traceback": [
      "\u001b[1;31m---------------------------------------------------------------------------\u001b[0m",
      "\u001b[1;31mModuleNotFoundError\u001b[0m                       Traceback (most recent call last)",
      "\u001b[1;32mc:\\Users\\benku\\Desktop\\College documents\\Krastanov Independent Study\\ecc_playground.ipynb Cell 1\u001b[0m in \u001b[0;36m<cell line: 4>\u001b[1;34m()\u001b[0m\n\u001b[0;32m      <a href='vscode-notebook-cell:/c%3A/Users/benku/Desktop/College%20documents/Krastanov%20Independent%20Study/ecc_playground.ipynb#W0sZmlsZQ%3D%3D?line=1'>2</a>\u001b[0m \u001b[39mimport\u001b[39;00m \u001b[39mmatplotlib\u001b[39;00m \u001b[39mas\u001b[39;00m \u001b[39mplt\u001b[39;00m\n\u001b[0;32m      <a href='vscode-notebook-cell:/c%3A/Users/benku/Desktop/College%20documents/Krastanov%20Independent%20Study/ecc_playground.ipynb#W0sZmlsZQ%3D%3D?line=2'>3</a>\u001b[0m \u001b[39mfrom\u001b[39;00m \u001b[39mscipy\u001b[39;00m\u001b[39m.\u001b[39;00m\u001b[39mlinalg\u001b[39;00m \u001b[39mimport\u001b[39;00m circulant\n\u001b[1;32m----> <a href='vscode-notebook-cell:/c%3A/Users/benku/Desktop/College%20documents/Krastanov%20Independent%20Study/ecc_playground.ipynb#W0sZmlsZQ%3D%3D?line=3'>4</a>\u001b[0m \u001b[39mimport\u001b[39;00m \u001b[39mCSS_builder\u001b[39;00m\n\u001b[0;32m      <a href='vscode-notebook-cell:/c%3A/Users/benku/Desktop/College%20documents/Krastanov%20Independent%20Study/ecc_playground.ipynb#W0sZmlsZQ%3D%3D?line=4'>5</a>\u001b[0m \u001b[39mfrom\u001b[39;00m \u001b[39mutil\u001b[39;00m\u001b[39m.\u001b[39;00m\u001b[39mCSS_builder\u001b[39;00m \u001b[39mimport\u001b[39;00m \u001b[39m*\u001b[39m\n",
      "\u001b[1;31mModuleNotFoundError\u001b[0m: No module named 'CSS_builder'"
     ]
    }
   ],
   "source": [
    "import numpy as np\n",
    "import matplotlib as plt\n",
    "from scipy.linalg import circulant\n",
    "# import CSS_builder\n",
    "from util.CSS_builder import *\n"
   ]
  },
  {
   "cell_type": "code",
   "execution_count": 154,
   "metadata": {},
   "outputs": [],
   "source": [
    "# Setup\n",
    "B_N = 14\n",
    "B_M = 7\n",
    "B_n = 7\n",
    "B_indices = np.array([0, 1, 3])\n",
    "\n",
    "# Matrix setup\n",
    "B_c_start = np.zeros(B_n, dtype=int)\n",
    "B_c_start[B_indices] += 1"
   ]
  },
  {
   "cell_type": "code",
   "execution_count": 155,
   "metadata": {},
   "outputs": [
    {
     "name": "stdout",
     "output_type": "stream",
     "text": [
      "[[1 1 0 1 0 0 0]\n",
      " [0 1 1 0 1 0 0]\n",
      " [0 0 1 1 0 1 0]\n",
      " [0 0 0 1 1 0 1]\n",
      " [1 0 0 0 1 1 0]\n",
      " [0 1 0 0 0 1 1]\n",
      " [1 0 1 0 0 0 1]]\n"
     ]
    }
   ],
   "source": [
    "# Construct the cyclic perfect difference set matrices\n",
    "\n",
    "# This is actually the transpose of what I wanted\n",
    "B_CirculantT = np.array(circulant(B_c_start))\n",
    "print(B_CirculantT.T)"
   ]
  },
  {
   "cell_type": "code",
   "execution_count": 156,
   "metadata": {},
   "outputs": [
    {
     "name": "stdout",
     "output_type": "stream",
     "text": [
      "[[1 1 0 1 0 0 0 1 0 0 0 1 0 1]\n",
      " [0 1 1 0 1 0 0 1 1 0 0 0 1 0]\n",
      " [0 0 1 1 0 1 0 0 1 1 0 0 0 1]\n",
      " [0 0 0 1 1 0 1 1 0 1 1 0 0 0]\n",
      " [1 0 0 0 1 1 0 0 1 0 1 1 0 0]\n",
      " [0 1 0 0 0 1 1 0 0 1 0 1 1 0]\n",
      " [1 0 1 0 0 0 1 0 0 0 1 0 1 1]]\n"
     ]
    }
   ],
   "source": [
    "# Add cyclic perfect difference set matrices together\n",
    "B_Comp = np.zeros((B_n, 2*B_n), dtype=int)\n",
    "B_Comp[:,B_n:2*B_n] = B_CirculantT\n",
    "B_Comp[:,0:B_n] = B_CirculantT.T\n",
    "print(B_Comp)"
   ]
  },
  {
   "cell_type": "code",
   "execution_count": 157,
   "metadata": {},
   "outputs": [
    {
     "name": "stdout",
     "output_type": "stream",
     "text": [
      "[[1 1 0 1 0 0 0 1 0 0 0 1 0 1]\n",
      " [0 1 1 0 1 0 0 1 1 0 0 0 1 0]\n",
      " [0 0 1 1 0 1 0 0 1 1 0 0 0 1]\n",
      " [0 0 0 1 1 0 1 1 0 1 1 0 0 0]\n",
      " [1 0 0 0 1 1 0 0 1 0 1 1 0 0]\n",
      " [0 1 0 0 0 1 1 0 0 1 0 1 1 0]\n",
      " [1 0 1 0 0 0 1 0 0 0 1 0 1 1]]\n"
     ]
    }
   ],
   "source": [
    "# Create H_0 to be used to make the A = ( H_0 |  0  ) matrix\n",
    "#                                       (  0  | H_0 )\n",
    "B_H_0 = B_Comp[0:B_M,0:B_N]\n",
    "print(B_H_0)"
   ]
  },
  {
   "cell_type": "code",
   "execution_count": 158,
   "metadata": {},
   "outputs": [
    {
     "name": "stdout",
     "output_type": "stream",
     "text": [
      "[[1 1 0 1 0 0 0 1 0 0 0 1 0 1 0 0 0 0 0 0 0 0 0 0 0 0 0 0]\n",
      " [0 1 1 0 1 0 0 1 1 0 0 0 1 0 0 0 0 0 0 0 0 0 0 0 0 0 0 0]\n",
      " [0 0 1 1 0 1 0 0 1 1 0 0 0 1 0 0 0 0 0 0 0 0 0 0 0 0 0 0]\n",
      " [0 0 0 1 1 0 1 1 0 1 1 0 0 0 0 0 0 0 0 0 0 0 0 0 0 0 0 0]\n",
      " [1 0 0 0 1 1 0 0 1 0 1 1 0 0 0 0 0 0 0 0 0 0 0 0 0 0 0 0]\n",
      " [0 1 0 0 0 1 1 0 0 1 0 1 1 0 0 0 0 0 0 0 0 0 0 0 0 0 0 0]\n",
      " [1 0 1 0 0 0 1 0 0 0 1 0 1 1 0 0 0 0 0 0 0 0 0 0 0 0 0 0]\n",
      " [0 0 0 0 0 0 0 0 0 0 0 0 0 0 1 1 0 1 0 0 0 1 0 0 0 1 0 1]\n",
      " [0 0 0 0 0 0 0 0 0 0 0 0 0 0 0 1 1 0 1 0 0 1 1 0 0 0 1 0]\n",
      " [0 0 0 0 0 0 0 0 0 0 0 0 0 0 0 0 1 1 0 1 0 0 1 1 0 0 0 1]\n",
      " [0 0 0 0 0 0 0 0 0 0 0 0 0 0 0 0 0 1 1 0 1 1 0 1 1 0 0 0]\n",
      " [0 0 0 0 0 0 0 0 0 0 0 0 0 0 1 0 0 0 1 1 0 0 1 0 1 1 0 0]\n",
      " [0 0 0 0 0 0 0 0 0 0 0 0 0 0 0 1 0 0 0 1 1 0 0 1 0 1 1 0]\n",
      " [0 0 0 0 0 0 0 0 0 0 0 0 0 0 1 0 1 0 0 0 1 0 0 0 1 0 1 1]]\n"
     ]
    }
   ],
   "source": [
    "# Construct the parity check matrix\n",
    "\n",
    "B_PCM = np.zeros((2*B_M, 2*B_N), dtype=int)\n",
    "B_PCM[0:B_M, 0:B_N] = B_H_0\n",
    "B_PCM[B_M:2*B_M, B_N:2*B_N] = B_H_0\n",
    "\n",
    "print(B_PCM)"
   ]
  },
  {
   "cell_type": "code",
   "execution_count": 159,
   "metadata": {
    "scrolled": false
   },
   "outputs": [],
   "source": [
    "for i in range(2*B_n):\n",
    "    for j in range(B_n - (i%B_n) - 1):\n",
    "        if np.count_nonzero(np.bitwise_and(B_PCM[i], B_PCM[i + j + 1])) != 2:\n",
    "            print(\"Error:\")\n",
    "            print(B_PCM[i])\n",
    "            print(B_PCM[i + j + 1])"
   ]
  },
  {
   "cell_type": "code",
   "execution_count": 160,
   "metadata": {},
   "outputs": [
    {
     "ename": "TypeError",
     "evalue": "'<' not supported between instances of 'list' and 'int'",
     "output_type": "error",
     "traceback": [
      "\u001b[1;31m---------------------------------------------------------------------------\u001b[0m",
      "\u001b[1;31mTypeError\u001b[0m                                 Traceback (most recent call last)",
      "\u001b[1;32mc:\\Users\\benku\\Desktop\\College documents\\Krastanov Independent Study\\ecc_playground.ipynb Cell 8\u001b[0m in \u001b[0;36m<cell line: 1>\u001b[1;34m()\u001b[0m\n\u001b[1;32m----> <a href='vscode-notebook-cell:/c%3A/Users/benku/Desktop/College%20documents/Krastanov%20Independent%20Study/ecc_playground.ipynb#X13sZmlsZQ%3D%3D?line=0'>1</a>\u001b[0m B_start \u001b[39m=\u001b[39m B_starter([\u001b[39m0\u001b[39;49m, \u001b[39m1\u001b[39;49m, \u001b[39m3\u001b[39;49m], \u001b[39m7\u001b[39;49m)\n\u001b[0;32m      <a href='vscode-notebook-cell:/c%3A/Users/benku/Desktop/College%20documents/Krastanov%20Independent%20Study/ecc_playground.ipynb#X13sZmlsZQ%3D%3D?line=1'>2</a>\u001b[0m B_code \u001b[39m=\u001b[39m CSS(B\u001b[39m.\u001b[39mgetH())\n\u001b[0;32m      <a href='vscode-notebook-cell:/c%3A/Users/benku/Desktop/College%20documents/Krastanov%20Independent%20Study/ecc_playground.ipynb#X13sZmlsZQ%3D%3D?line=2'>3</a>\u001b[0m \u001b[39mprint\u001b[39m(B_code\u001b[39m.\u001b[39mgetPCM())\n",
      "File \u001b[1;32mc:\\Users\\benku\\Desktop\\College documents\\Krastanov Independent Study\\util\\CSS_builder.py:38\u001b[0m, in \u001b[0;36mB_starter.__init__\u001b[1;34m(self, c_indices, n)\u001b[0m\n\u001b[0;32m     37\u001b[0m \u001b[39mdef\u001b[39;00m \u001b[39m__init__\u001b[39m(\u001b[39mself\u001b[39m, c_indices, n):\n\u001b[1;32m---> 38\u001b[0m     \u001b[39mif\u001b[39;00m \u001b[39mnot\u001b[39;00m (c_indices \u001b[39m<\u001b[39;49m n)\u001b[39m.\u001b[39mall():\n\u001b[0;32m     39\u001b[0m         \u001b[39mprint\u001b[39m(\u001b[39m\"\u001b[39m\u001b[39mError, a index is greater or equal to the length of the list\u001b[39m\u001b[39m\"\u001b[39m)\n\u001b[0;32m     40\u001b[0m     \u001b[39melse\u001b[39;00m:\n",
      "\u001b[1;31mTypeError\u001b[0m: '<' not supported between instances of 'list' and 'int'"
     ]
    }
   ],
   "source": [
    "B_start = B_starter([0, 1, 3], 7)\n",
    "B_code = CSS(B.getH())\n",
    "print(B_code.getPCM())\n",
    "B_code.checkTP()"
   ]
  }
 ],
 "metadata": {
  "kernelspec": {
   "display_name": "Python 3 (ipykernel)",
   "language": "python",
   "name": "python3"
  },
  "language_info": {
   "codemirror_mode": {
    "name": "ipython",
    "version": 3
   },
   "file_extension": ".py",
   "mimetype": "text/x-python",
   "name": "python",
   "nbconvert_exporter": "python",
   "pygments_lexer": "ipython3",
   "version": "3.10.11"
  }
 },
 "nbformat": 4,
 "nbformat_minor": 2
}
